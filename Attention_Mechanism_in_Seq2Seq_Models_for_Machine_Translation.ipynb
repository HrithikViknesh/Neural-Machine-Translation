{
 "cells": [
  {
   "cell_type": "markdown",
   "metadata": {
    "toc": true
   },
   "source": [
    "<h1>Table of Contents<span class=\"tocSkip\"></span></h1>\n",
    "<div class=\"toc\"><ul class=\"toc-item\"><li><span><a href=\"#Seq-to-Seq-model-with-Attention-mechanism-for-Neural-Machine-Translation\" data-toc-modified-id=\"Seq-to-Seq-model-with-Attention-mechanism-for-Neural-Machine-Translation-1\"><span class=\"toc-item-num\">1&nbsp;&nbsp;</span>Seq to Seq model with Attention mechanism for Neural Machine Translation</a></span><ul class=\"toc-item\"><li><span><a href=\"#Problem-Definition:\" data-toc-modified-id=\"Problem-Definition:-1.1\"><span class=\"toc-item-num\">1.1&nbsp;&nbsp;</span>Problem Definition:</a></span><ul class=\"toc-item\"><li><ul class=\"toc-item\"><li><span><a href=\"#Attention-Mechanism:\" data-toc-modified-id=\"Attention-Mechanism:-1.1.0.1\"><span class=\"toc-item-num\">1.1.0.1&nbsp;&nbsp;</span>Attention Mechanism:</a></span></li></ul></li></ul></li><li><span><a href=\"#Data\" data-toc-modified-id=\"Data-1.2\"><span class=\"toc-item-num\">1.2&nbsp;&nbsp;</span>Data</a></span></li><li><span><a href=\"#Dealing-with-the-data\" data-toc-modified-id=\"Dealing-with-the-data-1.3\"><span class=\"toc-item-num\">1.3&nbsp;&nbsp;</span>Dealing with the data</a></span><ul class=\"toc-item\"><li><span><a href=\"#Some-useful-constants\" data-toc-modified-id=\"Some-useful-constants-1.3.1\"><span class=\"toc-item-num\">1.3.1&nbsp;&nbsp;</span>Some useful constants</a></span></li><li><span><a href=\"#Load-and-process-training-data\" data-toc-modified-id=\"Load-and-process-training-data-1.3.2\"><span class=\"toc-item-num\">1.3.2&nbsp;&nbsp;</span>Load and process training data</a></span></li><li><span><a href=\"#Tokenize-and-Pad-the-data\" data-toc-modified-id=\"Tokenize-and-Pad-the-data-1.3.3\"><span class=\"toc-item-num\">1.3.3&nbsp;&nbsp;</span>Tokenize and Pad the data</a></span><ul class=\"toc-item\"><li><span><a href=\"#Tokenize-Input-sequences\" data-toc-modified-id=\"Tokenize-Input-sequences-1.3.3.1\"><span class=\"toc-item-num\">1.3.3.1&nbsp;&nbsp;</span>Tokenize Input sequences</a></span></li><li><span><a href=\"#Tokenize-output-sequences\" data-toc-modified-id=\"Tokenize-output-sequences-1.3.3.2\"><span class=\"toc-item-num\">1.3.3.2&nbsp;&nbsp;</span>Tokenize output sequences</a></span></li><li><span><a href=\"#Padding\" data-toc-modified-id=\"Padding-1.3.3.3\"><span class=\"toc-item-num\">1.3.3.3&nbsp;&nbsp;</span>Padding</a></span></li></ul></li><li><span><a href=\"#Load-the-pretrained-English-word-embeddings\" data-toc-modified-id=\"Load-the-pretrained-English-word-embeddings-1.3.4\"><span class=\"toc-item-num\">1.3.4&nbsp;&nbsp;</span>Load the pretrained English word embeddings</a></span></li><li><span><a href=\"#Word-Embeddings\" data-toc-modified-id=\"Word-Embeddings-1.3.5\"><span class=\"toc-item-num\">1.3.5&nbsp;&nbsp;</span>Word Embeddings</a></span><ul class=\"toc-item\"><li><span><a href=\"#Why-word-embeddings?\" data-toc-modified-id=\"Why-word-embeddings?-1.3.5.1\"><span class=\"toc-item-num\">1.3.5.1&nbsp;&nbsp;</span>Why word embeddings?</a></span></li><li><span><a href=\"#How-do-word-embeddings-work?\" data-toc-modified-id=\"How-do-word-embeddings-work?-1.3.5.2\"><span class=\"toc-item-num\">1.3.5.2&nbsp;&nbsp;</span>How do word embeddings work?</a></span></li><li><span><a href=\"#Pretrained-Word-Embeddings\" data-toc-modified-id=\"Pretrained-Word-Embeddings-1.3.5.3\"><span class=\"toc-item-num\">1.3.5.3&nbsp;&nbsp;</span>Pretrained Word Embeddings</a></span></li></ul></li><li><span><a href=\"#Construct-embedding-matrix\" data-toc-modified-id=\"Construct-embedding-matrix-1.3.6\"><span class=\"toc-item-num\">1.3.6&nbsp;&nbsp;</span>Construct embedding matrix</a></span></li><li><span><a href=\"#Create-Embedding-layer-using-Word-Embeddings-of-input-language\" data-toc-modified-id=\"Create-Embedding-layer-using-Word-Embeddings-of-input-language-1.3.7\"><span class=\"toc-item-num\">1.3.7&nbsp;&nbsp;</span>Create Embedding layer using Word Embeddings of input language</a></span></li><li><span><a href=\"#Perform-One-Hot-encoding-of-words-in-Output-Language\" data-toc-modified-id=\"Perform-One-Hot-encoding-of-words-in-Output-Language-1.3.8\"><span class=\"toc-item-num\">1.3.8&nbsp;&nbsp;</span>Perform One Hot encoding of words in Output Language</a></span></li></ul></li><li><span><a href=\"#Modelling\" data-toc-modified-id=\"Modelling-1.4\"><span class=\"toc-item-num\">1.4&nbsp;&nbsp;</span>Modelling</a></span><ul class=\"toc-item\"><li><span><a href=\"#Build-the-Encoder-model\" data-toc-modified-id=\"Build-the-Encoder-model-1.4.1\"><span class=\"toc-item-num\">1.4.1&nbsp;&nbsp;</span>Build the Encoder model</a></span></li><li><span><a href=\"#Build-initial-part-of-the-Decoder-model\" data-toc-modified-id=\"Build-initial-part-of-the-Decoder-model-1.4.2\"><span class=\"toc-item-num\">1.4.2&nbsp;&nbsp;</span>Build initial part of the Decoder model</a></span></li><li><span><a href=\"#Introduce-Attention-Mechanism\" data-toc-modified-id=\"Introduce-Attention-Mechanism-1.4.3\"><span class=\"toc-item-num\">1.4.3&nbsp;&nbsp;</span>Introduce Attention Mechanism</a></span><ul class=\"toc-item\"><li><span><a href=\"#Global-layers\" data-toc-modified-id=\"Global-layers-1.4.3.1\"><span class=\"toc-item-num\">1.4.3.1&nbsp;&nbsp;</span>Global layers</a></span></li><li><span><a href=\"#Define--function-to-calculate-context-for-one-word-at-a-time(not-entire-Ty)\" data-toc-modified-id=\"Define--function-to-calculate-context-for-one-word-at-a-time(not-entire-Ty)-1.4.3.2\"><span class=\"toc-item-num\">1.4.3.2&nbsp;&nbsp;</span>Define  function to calculate context for one word at a time(not entire Ty)</a></span></li></ul></li><li><span><a href=\"#Build-the-rest-of-the-Decoder\" data-toc-modified-id=\"Build-the-rest-of-the-Decoder-1.4.4\"><span class=\"toc-item-num\">1.4.4&nbsp;&nbsp;</span>Build the rest of the Decoder</a></span></li><li><span><a href=\"#Instantiate-the-model\" data-toc-modified-id=\"Instantiate-the-model-1.4.5\"><span class=\"toc-item-num\">1.4.5&nbsp;&nbsp;</span>Instantiate the model</a></span></li><li><span><a href=\"#Define-custom-loss-functions-and-metrics-for-the-model\" data-toc-modified-id=\"Define-custom-loss-functions-and-metrics-for-the-model-1.4.6\"><span class=\"toc-item-num\">1.4.6&nbsp;&nbsp;</span>Define custom loss functions and metrics for the model</a></span></li><li><span><a href=\"#Compile-the-model\" data-toc-modified-id=\"Compile-the-model-1.4.7\"><span class=\"toc-item-num\">1.4.7&nbsp;&nbsp;</span>Compile the model</a></span></li><li><span><a href=\"#Fit-the-model\" data-toc-modified-id=\"Fit-the-model-1.4.8\"><span class=\"toc-item-num\">1.4.8&nbsp;&nbsp;</span>Fit the model</a></span></li><li><span><a href=\"#Plot-progress-of-model-training-process.\" data-toc-modified-id=\"Plot-progress-of-model-training-process.-1.4.9\"><span class=\"toc-item-num\">1.4.9&nbsp;&nbsp;</span>Plot progress of model training process.</a></span></li></ul></li><li><span><a href=\"#Sampling-model\" data-toc-modified-id=\"Sampling-model-1.5\"><span class=\"toc-item-num\">1.5&nbsp;&nbsp;</span>Sampling model</a></span><ul class=\"toc-item\"><li><span><a href=\"#Standalone-Encoder\" data-toc-modified-id=\"Standalone-Encoder-1.5.1\"><span class=\"toc-item-num\">1.5.1&nbsp;&nbsp;</span>Standalone Encoder</a></span></li><li><span><a href=\"#Specify-architecture-of-sampling(prediction)-decoder\" data-toc-modified-id=\"Specify-architecture-of-sampling(prediction)-decoder-1.5.2\"><span class=\"toc-item-num\">1.5.2&nbsp;&nbsp;</span>Specify architecture of sampling(prediction) decoder</a></span></li><li><span><a href=\"#Sampling-decoder-model\" data-toc-modified-id=\"Sampling-decoder-model-1.5.3\"><span class=\"toc-item-num\">1.5.3&nbsp;&nbsp;</span>Sampling decoder model</a></span></li></ul></li><li><span><a href=\"#Functionize-the-translation-process.\" data-toc-modified-id=\"Functionize-the-translation-process.-1.6\"><span class=\"toc-item-num\">1.6&nbsp;&nbsp;</span>Functionize the translation process.</a></span></li></ul></li></ul></div>"
   ]
  },
  {
   "cell_type": "markdown",
   "metadata": {},
   "source": [
    "# Seq to Seq model with Attention mechanism for Neural Machine Translation"
   ]
  },
  {
   "cell_type": "markdown",
   "metadata": {},
   "source": [
    "## Problem Definition:"
   ]
  },
  {
   "cell_type": "markdown",
   "metadata": {},
   "source": [
    "Given a sentence in one language (English here) , we must be able to output the translated sentence(French)."
   ]
  },
  {
   "cell_type": "markdown",
   "metadata": {},
   "source": [
    "Unlike the traditional methods like Statistical Machine Translation(SMT), we use Neural Networks to achieve this task.\n",
    "\n",
    "On the other hand, Neural Machine Translation, performs the process by attempting to model high level abstractions into data, \n",
    "much closer to how it is undertaken by a human than the traditional statistical approach. \n",
    "\n",
    "Neural networks better capture the context of full sentences before translating them, which entails higher quality and a more human-sounding output. \n",
    "\n",
    "Machine Translation provides a new challenge in NLP in that, unilke some of the other use cases, **the output sequence is very often, not the same length as that of the input sequence.**\n",
    "\n",
    "So we can't just straight away use the Many-to-Many type of models here.\n",
    "\n",
    "Input from a single timestep in the input could correspond to mutiple output words(units).\n",
    "\n",
    "The solution is to use Sequence to Sequence models."
   ]
  },
  {
   "cell_type": "markdown",
   "metadata": {},
   "source": [
    "<h4>Attention Mechanism:</h4>\n",
    "    \n",
    "   * The problem with using plain Encoder Decoder networks for Machine Translation is that, the **Encoder compresses the whole source sentence into a single vector**. This can very hard - the number of possible meanings of source is infinite. When the encoder is forced to put all information into a single vector, it is likely to forget something.    \n",
    "    \n",
    "   * Not only it is hard for the encoder to put all information into a single vector - this is also hard for the decoder.The decoder sees only one representation of source. However, **at each generation step, different parts of source can be more useful than others. But in the current setting, the decoder has to extract relevant information from the same fixed representation** - hardly an easy thing to do."
   ]
  },
  {
   "cell_type": "markdown",
   "metadata": {},
   "source": [
    "* The Attention mechanism was introduced in the paper Neural Machine Translation by Jointly Learning to Align and Translate to address the fixed representation problem.\n",
    "\n",
    "* Attention mechanism is a part of a neural network. At each decoder step, it decides which source parts are more important. In this setting, the encoder does not have to compress the whole source into a single vector - it gives representations for all source tokens (for example, all RNN states instead of the last one)."
   ]
  },
  {
   "cell_type": "markdown",
   "metadata": {},
   "source": [
    "## Data"
   ]
  },
  {
   "cell_type": "markdown",
   "metadata": {},
   "source": [
    "* The embedding vectors for English are the GloVe word vectors from Stanford repo\n",
    "* The training data of sequences with translations is a 177210 lines long text document from http://www.manythings.org/anki/\n",
    "* We choose to train the word embeddings for the French Language by ourselves, although pretrained vectors could also be used."
   ]
  },
  {
   "cell_type": "code",
   "execution_count": 2,
   "metadata": {},
   "outputs": [],
   "source": [
    "import pandas as pd\n",
    "import numpy as np\n",
    "import tensorflow as tf\n",
    "from tensorflow import keras\n",
    "import matplotlib.pyplot as plt\n",
    "%matplotlib inline"
   ]
  },
  {
   "cell_type": "code",
   "execution_count": 3,
   "metadata": {},
   "outputs": [],
   "source": [
    "from tensorflow.keras.layers import Input,Dense,RepeatVector,Lambda,Concatenate,Embedding,Dot\n",
    "from tensorflow.keras.layers import LSTM,Bidirectional"
   ]
  },
  {
   "cell_type": "code",
   "execution_count": 4,
   "metadata": {},
   "outputs": [],
   "source": [
    "from tensorflow.keras.preprocessing.text import Tokenizer\n",
    "from tensorflow.keras.preprocessing.sequence import pad_sequences"
   ]
  },
  {
   "cell_type": "code",
   "execution_count": 5,
   "metadata": {},
   "outputs": [],
   "source": [
    "import tensorflow.keras.backend as K\n",
    "from tensorflow.keras.models import Model"
   ]
  },
  {
   "cell_type": "markdown",
   "metadata": {},
   "source": [
    "## Dealing with the data"
   ]
  },
  {
   "cell_type": "markdown",
   "metadata": {},
   "source": [
    "### Some useful constants"
   ]
  },
  {
   "cell_type": "code",
   "execution_count": null,
   "metadata": {},
   "outputs": [],
   "source": [
    "NUM_SAMPLES=10000       # Number of samples to include from the available data.(can be adjusted according to memory constraint)\n",
    "M1=400                  # Number of layers in Encoder network\n",
    "M2=450                  # Number of layers in Decoder network\n",
    "BATCH_SIZE=64\n",
    "EPOCHS=30 \n",
    "MAX_NUM_WORDS=20000     # Maximum number of words in the language vocabulary to use.\n",
    "EMBEDDING_DIM=200       # Dimension of word embeddings(Same for both languages)"
   ]
  },
  {
   "cell_type": "markdown",
   "metadata": {},
   "source": [
    "### Load and process training data"
   ]
  },
  {
   "cell_type": "code",
   "execution_count": 8,
   "metadata": {},
   "outputs": [],
   "source": [
    "count=0\n",
    "\n",
    "input_texts=[]          # Input sequence\n",
    "target_texts=[]         # Output Sequence\n",
    "target_texts_inputs=[]  # Output Sequence offset by 1(Teacher Forcing)\n",
    "\n",
    "# Each line of the training data contains an English sentence separated from its French translation by a tabspace\n",
    "\n",
    "for line in open(\"large_data/fra-eng/fra.txt\",encoding=\"utf-8\"):\n",
    "    count+=1\n",
    "    if count>NUM_SAMPLES:\n",
    "        break\n",
    "    if '\\t' not in line:\n",
    "        continue\n",
    "        \n",
    "    eng,trans,_=line.rstrip().split(\"\\t\")\n",
    "    input_texts.append(eng)\n",
    "    \n",
    "    target_sent = trans+\" <eos>\"           # Output sentences must end with <eos> token\n",
    "    target_sent_input = \"<sos> \"+trans     # While training, each output sentence must begin with <sos> token\n",
    "    \n",
    "    target_texts.append(target_sent)\n",
    "    target_texts_inputs.append(target_sent_input)    "
   ]
  },
  {
   "cell_type": "code",
   "execution_count": 9,
   "metadata": {},
   "outputs": [
    {
     "data": {
      "text/plain": [
       "10000"
      ]
     },
     "execution_count": 9,
     "metadata": {},
     "output_type": "execute_result"
    }
   ],
   "source": [
    "len(input_texts)"
   ]
  },
  {
   "cell_type": "markdown",
   "metadata": {},
   "source": [
    "### Tokenize and Pad the data"
   ]
  },
  {
   "cell_type": "markdown",
   "metadata": {},
   "source": [
    "#### Tokenize Input sequences"
   ]
  },
  {
   "cell_type": "code",
   "execution_count": 10,
   "metadata": {},
   "outputs": [
    {
     "name": "stdout",
     "output_type": "stream",
     "text": [
      "Number of unique input tokens is  2150\n"
     ]
    }
   ],
   "source": [
    "input_tokenizer=Tokenizer(num_words=MAX_NUM_WORDS)\n",
    "input_tokenizer.fit_on_texts(input_texts)\n",
    "input_sequences=input_tokenizer.texts_to_sequences(input_texts)\n",
    "word2idx_inputs=input_tokenizer.word_index\n",
    "print(\"Number of unique input tokens is \",len(word2idx_inputs))"
   ]
  },
  {
   "cell_type": "markdown",
   "metadata": {},
   "source": [
    "#### Tokenize output sequences"
   ]
  },
  {
   "cell_type": "code",
   "execution_count": 11,
   "metadata": {},
   "outputs": [
    {
     "name": "stdout",
     "output_type": "stream",
     "text": [
      "Number of unique output tokens is  5738\n"
     ]
    }
   ],
   "source": [
    "target_tokenizer=Tokenizer(num_words=MAX_NUM_WORDS,filters='')\n",
    "target_tokenizer.fit_on_texts(target_texts+target_texts_inputs)\n",
    "target_sequences=target_tokenizer.texts_to_sequences(target_texts)\n",
    "target_sequences_inputs=target_tokenizer.texts_to_sequences(target_texts_inputs)\n",
    "word2idx_outputs=target_tokenizer.word_index\n",
    "print(\"Number of unique output tokens is \",len(word2idx_outputs))"
   ]
  },
  {
   "cell_type": "markdown",
   "metadata": {},
   "source": [
    "#### Padding"
   ]
  },
  {
   "cell_type": "markdown",
   "metadata": {},
   "source": [
    "Fix an upper limit on the possible length of each input and output sequence"
   ]
  },
  {
   "cell_type": "code",
   "execution_count": 12,
   "metadata": {},
   "outputs": [],
   "source": [
    "max_input_length=max(len(s) for s in input_texts)\n",
    "max_target_length=max(len(s) for s in target_texts)"
   ]
  },
  {
   "cell_type": "markdown",
   "metadata": {},
   "source": [
    "**While padding we pre-pad the inputs and post-pad the targets**\n",
    "\n",
    "This is because we want decoder to start giving outputs as soon as the actual input ends"
   ]
  },
  {
   "cell_type": "code",
   "execution_count": 13,
   "metadata": {},
   "outputs": [],
   "source": [
    "encoder_inputs=pad_sequences(input_sequences,padding=\"pre\",maxlen=max_input_length)\n",
    "decoder_targets=pad_sequences(target_sequences,padding=\"post\",maxlen=max_target_length)\n",
    "decoder_inputs=pad_sequences(target_sequences_inputs,padding=\"post\",maxlen=max_target_length)"
   ]
  },
  {
   "cell_type": "code",
   "execution_count": 14,
   "metadata": {},
   "outputs": [
    {
     "data": {
      "text/plain": [
       "10000"
      ]
     },
     "execution_count": 14,
     "metadata": {},
     "output_type": "execute_result"
    }
   ],
   "source": [
    "len(encoder_inputs)"
   ]
  },
  {
   "cell_type": "markdown",
   "metadata": {},
   "source": [
    "### Load the pretrained English word embeddings"
   ]
  },
  {
   "cell_type": "code",
   "execution_count": 15,
   "metadata": {},
   "outputs": [
    {
     "name": "stdout",
     "output_type": "stream",
     "text": [
      "Found 400000 word vectors.\n"
     ]
    }
   ],
   "source": [
    "word2vec={}\n",
    "# We use the embeddings of dimension 200\n",
    "with open(\"large_data/glove.6B/glove.6B.200D.txt\",encoding=\"utf-8\") as f:\n",
    "    for line in f:\n",
    "        values=line.split()\n",
    "        word=values[0]\n",
    "        vec=np.asarray(values[1:],dtype=\"float32\")\n",
    "        word2vec[word]=vec\n",
    "print('Found %s word vectors.' % len(word2vec))        "
   ]
  },
  {
   "cell_type": "markdown",
   "metadata": {},
   "source": [
    "### Word Embeddings"
   ]
  },
  {
   "cell_type": "markdown",
   "metadata": {},
   "source": [
    "Word Embeddings are a collective term for models that learned to map a set of words or phrases in a vocabulary to vectors of numerical values.\n",
    "\n",
    "#### Why word embeddings?\n",
    "\n",
    "Models do not understand words as such, so we **have to encode the text data in some form before feeding to the model.**\n",
    "\n",
    "\n",
    "If the approach for dealing with words in text data is to one-hot encode the text, we will have tens of thousands of unique words in the text vocabulary.\n",
    "\n",
    "Computations with such **one-hot encoded vectors** for these words will be **very inefficient.**\n",
    "\n",
    "Because most values in the one-hot vector will be 0(sparse). \n",
    "\n",
    "So, the matrix calculations that will happen in between the one-hot vector and a first hidden layer will result in a output that will have mostly 0 values\n",
    "\n",
    "#### How do word embeddings work?\n",
    "\n",
    "Embeddings are just like a fully-connected layer. They serve as a lookup table.\n",
    "\n",
    "Now, instead of doing the matrix multiplication between the inputs and hidden layer, we directly grab the values from embedding weight matrix. \n",
    "\n",
    "We can do this because, the multiplication of one-hot vector with weight matrix returns the row of the matrix corresponding to the index of ‘1’ input unit\n",
    "\n",
    "#### Pretrained Word Embeddings\n",
    "\n",
    "The word embeddings must be in such a manner that similar words have similar embeddings.\n",
    "\n",
    "For example, one will expect the embeddings of the words \"king\" and \"queen\" to be similar.\n",
    "\n",
    "Whereas the embeddings of the words \"live\" and \"die\" need to be quite different.\n",
    "\n",
    "So, when the word embeddings are visualized in space, one can find that similar words occur closer to each other.\n",
    "\n",
    "There are multiple off-the-shelf word embeddings available, that have been trained on lots of data and can capture the relationship between different words and their contexts and have been embedded accordingly.\n",
    "\n",
    "We will use the GloVe embeddings, developed by Stanford University.\n",
    "\n",
    "@Jeffrey Pennington, Richard Socher, and Christopher D. Manning. 2014. GloVe: Global Vectors for Word Representation."
   ]
  },
  {
   "cell_type": "markdown",
   "metadata": {},
   "source": [
    "The GloVe Embeddings of various dimensions are avilable at https://nlp.stanford.edu/projects/glove/"
   ]
  },
  {
   "cell_type": "markdown",
   "metadata": {},
   "source": [
    "### Construct embedding matrix"
   ]
  },
  {
   "cell_type": "markdown",
   "metadata": {},
   "source": [
    "Choose the Number of words to have in vocabulary as the minimum of the upper limit set previously and the number of unique words in the input language as captured by the Tokenizer."
   ]
  },
  {
   "cell_type": "code",
   "execution_count": 16,
   "metadata": {},
   "outputs": [
    {
     "name": "stdout",
     "output_type": "stream",
     "text": [
      "2151\n"
     ]
    }
   ],
   "source": [
    "num_words=min(MAX_NUM_WORDS,len(input_tokenizer.word_index)+1)\n",
    "print(num_words)"
   ]
  },
  {
   "cell_type": "code",
   "execution_count": 17,
   "metadata": {},
   "outputs": [],
   "source": [
    "embedding_matrix=np.zeros((num_words,EMBEDDING_DIM))\n",
    "for word, i in word2idx_inputs.items():\n",
    "    if i < MAX_NUM_WORDS:\n",
    "        embedding_vector = word2vec.get(word)\n",
    "    if embedding_vector is not None:\n",
    "      # words in input data not found in pretrained embeddings will be all zeros.\n",
    "        embedding_matrix[i] = embedding_vector"
   ]
  },
  {
   "cell_type": "markdown",
   "metadata": {},
   "source": [
    "### Create Embedding layer using Word Embeddings of input language"
   ]
  },
  {
   "cell_type": "code",
   "execution_count": 20,
   "metadata": {},
   "outputs": [],
   "source": [
    "embedding_layer=Embedding(num_words,EMBEDDING_DIM,weights=[embedding_matrix],input_length=max_input_length\n",
    "                         ,trainable=False)"
   ]
  },
  {
   "cell_type": "markdown",
   "metadata": {},
   "source": [
    "### Perform One Hot encoding of words in Output Language"
   ]
  },
  {
   "cell_type": "markdown",
   "metadata": {},
   "source": [
    "This allows us to use categorical crossentropy as the loss function while training the model."
   ]
  },
  {
   "cell_type": "code",
   "execution_count": 18,
   "metadata": {},
   "outputs": [],
   "source": [
    "num_words_output=len(word2idx_outputs)+1"
   ]
  },
  {
   "cell_type": "markdown",
   "metadata": {},
   "source": [
    "The One Hot Decoding here is 3 dimensional.\n",
    "\n",
    "Number of input sequences represents first dimension.\n",
    "\n",
    "Length of each sequence represents the second dimension.(MAX TARGET LENGTH)\n",
    "\n",
    "Number of unique words in the output language vocabulary represent the third dimension. "
   ]
  },
  {
   "cell_type": "code",
   "execution_count": 19,
   "metadata": {},
   "outputs": [],
   "source": [
    "decoder_targets_one_hot=np.zeros((len(input_sequences),\n",
    "                                  max_target_length,\n",
    "                                  num_words_output),\n",
    "                                dtype=\"float32\")\n",
    "for t,sentence in enumerate(decoder_targets):\n",
    "    for i,word in enumerate(sentence):\n",
    "        if word!=0:\n",
    "            decoder_targets_one_hot[t,i,word]=1"
   ]
  },
  {
   "cell_type": "markdown",
   "metadata": {},
   "source": [
    "## Modelling"
   ]
  },
  {
   "cell_type": "markdown",
   "metadata": {},
   "source": [
    "### Build the Encoder model"
   ]
  },
  {
   "cell_type": "code",
   "execution_count": 21,
   "metadata": {},
   "outputs": [],
   "source": [
    "encoder_input_placeholder  =Input(shape=(max_input_length,))\n",
    "\n",
    "x = embedding_layer(encoder_input_placeholder)  # Perform mapping of Input with word embeddings throgh this layer\n",
    "\n",
    "encoder_lstm = Bidirectional(LSTM(M1,return_sequences=True,dropout=0.5))   # Bidirectional LSTMs are used\n",
    "\n",
    "encoder_outputs=encoder_lstm(x)"
   ]
  },
  {
   "cell_type": "markdown",
   "metadata": {},
   "source": [
    "So, now we have the encoder model ready. We'll be capturing the state vectors at each stage."
   ]
  },
  {
   "cell_type": "markdown",
   "metadata": {},
   "source": [
    "**For Teacher forcing**\n",
    "\n",
    "Lets build the intial part of the decoder model ,before building the attention mechanism"
   ]
  },
  {
   "cell_type": "markdown",
   "metadata": {},
   "source": [
    "### Build initial part of the Decoder model"
   ]
  },
  {
   "cell_type": "code",
   "execution_count": 22,
   "metadata": {},
   "outputs": [],
   "source": [
    "decoder_input_placeholder = Input(shape=(max_target_length,)) #dimension is very important while training and prediction\n",
    "\n",
    "decoder_embeddings = Embedding(num_words_output,EMBEDDING_DIM)  # This layer's weights WILL be update during training\n",
    "\n",
    "decoder_inputs_x = decoder_embeddings(decoder_input_placeholder)"
   ]
  },
  {
   "cell_type": "markdown",
   "metadata": {},
   "source": [
    "### Introduce Attention Mechanism"
   ]
  },
  {
   "cell_type": "markdown",
   "metadata": {},
   "source": [
    "#### Global layers"
   ]
  },
  {
   "cell_type": "markdown",
   "metadata": {},
   "source": [
    "Custom Softmax Activation"
   ]
  },
  {
   "cell_type": "code",
   "execution_count": 23,
   "metadata": {},
   "outputs": [],
   "source": [
    "def softmax_over_time(x):\n",
    "    assert(K.ndim(x) > 2)\n",
    "    e = K.exp(x - K.max(x, axis=1, keepdims=True))\n",
    "    s = K.sum(e, axis=1, keepdims=True)\n",
    "    return e / s"
   ]
  },
  {
   "cell_type": "code",
   "execution_count": 24,
   "metadata": {},
   "outputs": [],
   "source": [
    "# To repeat the same state vector s(t-1) for Tx times for one alpha \n",
    "attn_repeat_states = RepeatVector(max_input_length)\n",
    "\n",
    "# To concat s(t-1) and h's together for learning alpha\n",
    "attn_concatenate_states = Concatenate(axis=-1)\n",
    "\n",
    "# A couple of dense layers to calc alpha, finally resulting in a scalar\n",
    "attn_dense1  = Dense(10,activation=\"tanh\")\n",
    "attn_dense2  = Dense(1,activation=softmax_over_time)\n",
    "attn_dot     = Dot(axes=1)# along time"
   ]
  },
  {
   "cell_type": "markdown",
   "metadata": {},
   "source": [
    "#### Define  function to calculate context for one word at a time(not entire Ty)"
   ]
  },
  {
   "cell_type": "code",
   "execution_count": 25,
   "metadata": {},
   "outputs": [],
   "source": [
    "def get_context_from_attn(h,s):\n",
    "    \"\"\"\n",
    "    Takes in the initial(or previous) decoder state and the encoder outputs and calculates context for one output word\n",
    "    \"\"\"\n",
    "    states_of_prev = attn_repeat_states(s)\n",
    "    \n",
    "    x = attn_concatenate_states([h,states_of_prev])\n",
    "    \n",
    "    x = attn_dense1(x)\n",
    "    \n",
    "    alphas = attn_dense2(x)\n",
    "    \n",
    "    # now use alphas and h to get context vector for word in t position out of Ty\n",
    "    context = attn_dot([alphas,h])\n",
    "    \n",
    "    return context    "
   ]
  },
  {
   "cell_type": "markdown",
   "metadata": {},
   "source": [
    "### Build the rest of the Decoder"
   ]
  },
  {
   "cell_type": "code",
   "execution_count": null,
   "metadata": {},
   "outputs": [],
   "source": [
    "decoder_lstm  = LSTM(M2, return_state=True) # return_sequences not needed because we will call it once for every output word\n",
    "decoder_dense = Dense(num_words_output, activation='softmax')   # Final layer of Decoder with probability value for all words in output vocabulary\n",
    "\n",
    "initial_s = Input(shape=(M2,), name='s0')\n",
    "initial_c = Input(shape=(M2,), name='c0')\n",
    "concat_prev_word_and_context = Concatenate(axis=2)"
   ]
  },
  {
   "cell_type": "code",
   "execution_count": 27,
   "metadata": {},
   "outputs": [],
   "source": [
    "s = initial_s\n",
    "c = initial_c"
   ]
  },
  {
   "cell_type": "code",
   "execution_count": 27,
   "metadata": {},
   "outputs": [],
   "source": [
    "output_texts=[]\n",
    "for t in range(max_target_length):\n",
    "    context = get_context_from_attn(encoder_outputs,s) # only s is the state needed for attention (initial)  not c\n",
    "   \n",
    "    # Use Lamba layer to grab the previous word in the input sequence\n",
    "    selector = Lambda(lambda x: x[:, t:t+1])\n",
    "    prev_word = selector(decoder_inputs_x)\n",
    "    \n",
    "    # Input context and previous word to Decoder\n",
    "    decoder_lstm_input = concat_prev_word_and_context([context,prev_word])\n",
    "    \n",
    "    out,s,c = decoder_lstm(decoder_lstm_input,initial_state=[s,c])\n",
    "    \n",
    "    decoder_outputs = decoder_dense(out)\n",
    "    output_texts.append(decoder_outputs)"
   ]
  },
  {
   "cell_type": "markdown",
   "metadata": {},
   "source": [
    "Reshaping outputs"
   ]
  },
  {
   "cell_type": "code",
   "execution_count": 28,
   "metadata": {},
   "outputs": [],
   "source": [
    "# 'outputs' is now a list of length Ty\n",
    "# each element is of shape (batch size N, output vocab size D)\n",
    "# therefore if we simply stack all the outputs into 1 tensor\n",
    "# it would be of shape T x N x D\n",
    "# we would like it to be of shape N x T x D\n",
    "\n",
    "def stack_and_transpose(x):\n",
    "  # x is a list of length T, each element is a batch_size x output_vocab_size tensor\n",
    "  x = K.stack(x) # is now T x batch_size x output_vocab_size tensor\n",
    "  x = K.permute_dimensions(x, pattern=(1, 0, 2)) # is now batch_size x T x output_vocab_size\n",
    "  return x\n",
    "\n",
    "# make it a layer\n",
    "stacker = Lambda(stack_and_transpose)\n",
    "output_texts = stacker(output_texts)"
   ]
  },
  {
   "cell_type": "markdown",
   "metadata": {},
   "source": [
    "### Instantiate the model\n",
    "* Number of inputs to provide the model is based on the \"Input\" layers we have used(4 here)\n",
    "* Output is the entity that we want ultimately out of the model"
   ]
  },
  {
   "cell_type": "code",
   "execution_count": 29,
   "metadata": {},
   "outputs": [],
   "source": [
    "model1=Model(\n",
    "        inputs=[encoder_input_placeholder,decoder_input_placeholder,initial_s,initial_c],\n",
    "        outputs=output_texts\n",
    "            )"
   ]
  },
  {
   "cell_type": "code",
   "execution_count": 30,
   "metadata": {},
   "outputs": [
    {
     "name": "stdout",
     "output_type": "stream",
     "text": [
      "Model: \"model\"\n",
      "__________________________________________________________________________________________________\n",
      "Layer (type)                    Output Shape         Param #     Connected to                     \n",
      "==================================================================================================\n",
      "input_1 (InputLayer)            [(None, 16)]         0                                            \n",
      "__________________________________________________________________________________________________\n",
      "embedding (Embedding)           (None, 16, 200)      430200      input_1[0][0]                    \n",
      "__________________________________________________________________________________________________\n",
      "s0 (InputLayer)                 [(None, 450)]        0                                            \n",
      "__________________________________________________________________________________________________\n",
      "bidirectional (Bidirectional)   (None, 16, 800)      1923200     embedding[0][0]                  \n",
      "__________________________________________________________________________________________________\n",
      "repeat_vector (RepeatVector)    (None, 16, 450)      0           s0[0][0]                         \n",
      "                                                                 lstm_1[0][1]                     \n",
      "                                                                 lstm_1[1][1]                     \n",
      "                                                                 lstm_1[2][1]                     \n",
      "                                                                 lstm_1[3][1]                     \n",
      "                                                                 lstm_1[4][1]                     \n",
      "                                                                 lstm_1[5][1]                     \n",
      "                                                                 lstm_1[6][1]                     \n",
      "                                                                 lstm_1[7][1]                     \n",
      "                                                                 lstm_1[8][1]                     \n",
      "                                                                 lstm_1[9][1]                     \n",
      "                                                                 lstm_1[10][1]                    \n",
      "                                                                 lstm_1[11][1]                    \n",
      "                                                                 lstm_1[12][1]                    \n",
      "                                                                 lstm_1[13][1]                    \n",
      "                                                                 lstm_1[14][1]                    \n",
      "                                                                 lstm_1[15][1]                    \n",
      "                                                                 lstm_1[16][1]                    \n",
      "                                                                 lstm_1[17][1]                    \n",
      "                                                                 lstm_1[18][1]                    \n",
      "                                                                 lstm_1[19][1]                    \n",
      "                                                                 lstm_1[20][1]                    \n",
      "                                                                 lstm_1[21][1]                    \n",
      "                                                                 lstm_1[22][1]                    \n",
      "                                                                 lstm_1[23][1]                    \n",
      "                                                                 lstm_1[24][1]                    \n",
      "                                                                 lstm_1[25][1]                    \n",
      "                                                                 lstm_1[26][1]                    \n",
      "                                                                 lstm_1[27][1]                    \n",
      "                                                                 lstm_1[28][1]                    \n",
      "                                                                 lstm_1[29][1]                    \n",
      "                                                                 lstm_1[30][1]                    \n",
      "                                                                 lstm_1[31][1]                    \n",
      "                                                                 lstm_1[32][1]                    \n",
      "                                                                 lstm_1[33][1]                    \n",
      "                                                                 lstm_1[34][1]                    \n",
      "                                                                 lstm_1[35][1]                    \n",
      "                                                                 lstm_1[36][1]                    \n",
      "                                                                 lstm_1[37][1]                    \n",
      "                                                                 lstm_1[38][1]                    \n",
      "                                                                 lstm_1[39][1]                    \n",
      "                                                                 lstm_1[40][1]                    \n",
      "                                                                 lstm_1[41][1]                    \n",
      "                                                                 lstm_1[42][1]                    \n",
      "                                                                 lstm_1[43][1]                    \n",
      "                                                                 lstm_1[44][1]                    \n",
      "                                                                 lstm_1[45][1]                    \n",
      "                                                                 lstm_1[46][1]                    \n",
      "                                                                 lstm_1[47][1]                    \n",
      "                                                                 lstm_1[48][1]                    \n",
      "                                                                 lstm_1[49][1]                    \n",
      "                                                                 lstm_1[50][1]                    \n",
      "                                                                 lstm_1[51][1]                    \n",
      "                                                                 lstm_1[52][1]                    \n",
      "                                                                 lstm_1[53][1]                    \n",
      "                                                                 lstm_1[54][1]                    \n",
      "                                                                 lstm_1[55][1]                    \n",
      "                                                                 lstm_1[56][1]                    \n",
      "                                                                 lstm_1[57][1]                    \n",
      "                                                                 lstm_1[58][1]                    \n",
      "                                                                 lstm_1[59][1]                    \n",
      "                                                                 lstm_1[60][1]                    \n",
      "                                                                 lstm_1[61][1]                    \n",
      "__________________________________________________________________________________________________\n",
      "concatenate (Concatenate)       (None, 16, 1250)     0           bidirectional[0][0]              \n",
      "                                                                 repeat_vector[0][0]              \n",
      "                                                                 bidirectional[0][0]              \n",
      "                                                                 repeat_vector[1][0]              \n",
      "                                                                 bidirectional[0][0]              \n",
      "                                                                 repeat_vector[2][0]              \n",
      "                                                                 bidirectional[0][0]              \n",
      "                                                                 repeat_vector[3][0]              \n",
      "                                                                 bidirectional[0][0]              \n",
      "                                                                 repeat_vector[4][0]              \n",
      "                                                                 bidirectional[0][0]              \n",
      "                                                                 repeat_vector[5][0]              \n",
      "                                                                 bidirectional[0][0]              \n",
      "                                                                 repeat_vector[6][0]              \n",
      "                                                                 bidirectional[0][0]              \n",
      "                                                                 repeat_vector[7][0]              \n",
      "                                                                 bidirectional[0][0]              \n",
      "                                                                 repeat_vector[8][0]              \n",
      "                                                                 bidirectional[0][0]              \n",
      "                                                                 repeat_vector[9][0]              \n",
      "                                                                 bidirectional[0][0]              \n",
      "                                                                 repeat_vector[10][0]             \n",
      "                                                                 bidirectional[0][0]              \n",
      "                                                                 repeat_vector[11][0]             \n",
      "                                                                 bidirectional[0][0]              \n",
      "                                                                 repeat_vector[12][0]             \n",
      "                                                                 bidirectional[0][0]              \n",
      "                                                                 repeat_vector[13][0]             \n",
      "                                                                 bidirectional[0][0]              \n",
      "                                                                 repeat_vector[14][0]             \n",
      "                                                                 bidirectional[0][0]              \n",
      "                                                                 repeat_vector[15][0]             \n",
      "                                                                 bidirectional[0][0]              \n",
      "                                                                 repeat_vector[16][0]             \n",
      "                                                                 bidirectional[0][0]              \n",
      "                                                                 repeat_vector[17][0]             \n",
      "                                                                 bidirectional[0][0]              \n",
      "                                                                 repeat_vector[18][0]             \n",
      "                                                                 bidirectional[0][0]              \n",
      "                                                                 repeat_vector[19][0]             \n",
      "                                                                 bidirectional[0][0]              \n",
      "                                                                 repeat_vector[20][0]             \n",
      "                                                                 bidirectional[0][0]              \n",
      "                                                                 repeat_vector[21][0]             \n",
      "                                                                 bidirectional[0][0]              \n",
      "                                                                 repeat_vector[22][0]             \n",
      "                                                                 bidirectional[0][0]              \n",
      "                                                                 repeat_vector[23][0]             \n",
      "                                                                 bidirectional[0][0]              \n",
      "                                                                 repeat_vector[24][0]             \n",
      "                                                                 bidirectional[0][0]              \n",
      "                                                                 repeat_vector[25][0]             \n",
      "                                                                 bidirectional[0][0]              \n",
      "                                                                 repeat_vector[26][0]             \n",
      "                                                                 bidirectional[0][0]              \n",
      "                                                                 repeat_vector[27][0]             \n",
      "                                                                 bidirectional[0][0]              \n",
      "                                                                 repeat_vector[28][0]             \n",
      "                                                                 bidirectional[0][0]              \n",
      "                                                                 repeat_vector[29][0]             \n",
      "                                                                 bidirectional[0][0]              \n",
      "                                                                 repeat_vector[30][0]             \n",
      "                                                                 bidirectional[0][0]              \n",
      "                                                                 repeat_vector[31][0]             \n",
      "                                                                 bidirectional[0][0]              \n",
      "                                                                 repeat_vector[32][0]             \n",
      "                                                                 bidirectional[0][0]              \n",
      "                                                                 repeat_vector[33][0]             \n",
      "                                                                 bidirectional[0][0]              \n",
      "                                                                 repeat_vector[34][0]             \n",
      "                                                                 bidirectional[0][0]              \n",
      "                                                                 repeat_vector[35][0]             \n",
      "                                                                 bidirectional[0][0]              \n",
      "                                                                 repeat_vector[36][0]             \n",
      "                                                                 bidirectional[0][0]              \n",
      "                                                                 repeat_vector[37][0]             \n",
      "                                                                 bidirectional[0][0]              \n",
      "                                                                 repeat_vector[38][0]             \n",
      "                                                                 bidirectional[0][0]              \n",
      "                                                                 repeat_vector[39][0]             \n",
      "                                                                 bidirectional[0][0]              \n",
      "                                                                 repeat_vector[40][0]             \n",
      "                                                                 bidirectional[0][0]              \n",
      "                                                                 repeat_vector[41][0]             \n",
      "                                                                 bidirectional[0][0]              \n",
      "                                                                 repeat_vector[42][0]             \n",
      "                                                                 bidirectional[0][0]              \n",
      "                                                                 repeat_vector[43][0]             \n",
      "                                                                 bidirectional[0][0]              \n",
      "                                                                 repeat_vector[44][0]             \n",
      "                                                                 bidirectional[0][0]              \n",
      "                                                                 repeat_vector[45][0]             \n",
      "                                                                 bidirectional[0][0]              \n",
      "                                                                 repeat_vector[46][0]             \n",
      "                                                                 bidirectional[0][0]              \n",
      "                                                                 repeat_vector[47][0]             \n",
      "                                                                 bidirectional[0][0]              \n",
      "                                                                 repeat_vector[48][0]             \n",
      "                                                                 bidirectional[0][0]              \n",
      "                                                                 repeat_vector[49][0]             \n",
      "                                                                 bidirectional[0][0]              \n",
      "                                                                 repeat_vector[50][0]             \n",
      "                                                                 bidirectional[0][0]              \n",
      "                                                                 repeat_vector[51][0]             \n",
      "                                                                 bidirectional[0][0]              \n",
      "                                                                 repeat_vector[52][0]             \n",
      "                                                                 bidirectional[0][0]              \n",
      "                                                                 repeat_vector[53][0]             \n",
      "                                                                 bidirectional[0][0]              \n",
      "                                                                 repeat_vector[54][0]             \n",
      "                                                                 bidirectional[0][0]              \n",
      "                                                                 repeat_vector[55][0]             \n",
      "                                                                 bidirectional[0][0]              \n",
      "                                                                 repeat_vector[56][0]             \n",
      "                                                                 bidirectional[0][0]              \n",
      "                                                                 repeat_vector[57][0]             \n",
      "                                                                 bidirectional[0][0]              \n",
      "                                                                 repeat_vector[58][0]             \n",
      "                                                                 bidirectional[0][0]              \n",
      "                                                                 repeat_vector[59][0]             \n",
      "                                                                 bidirectional[0][0]              \n",
      "                                                                 repeat_vector[60][0]             \n",
      "                                                                 bidirectional[0][0]              \n",
      "                                                                 repeat_vector[61][0]             \n",
      "                                                                 bidirectional[0][0]              \n",
      "                                                                 repeat_vector[62][0]             \n",
      "__________________________________________________________________________________________________\n",
      "dense (Dense)                   (None, 16, 10)       12510       concatenate[0][0]                \n",
      "                                                                 concatenate[1][0]                \n",
      "                                                                 concatenate[2][0]                \n",
      "                                                                 concatenate[3][0]                \n",
      "                                                                 concatenate[4][0]                \n",
      "                                                                 concatenate[5][0]                \n",
      "                                                                 concatenate[6][0]                \n",
      "                                                                 concatenate[7][0]                \n",
      "                                                                 concatenate[8][0]                \n",
      "                                                                 concatenate[9][0]                \n",
      "                                                                 concatenate[10][0]               \n",
      "                                                                 concatenate[11][0]               \n",
      "                                                                 concatenate[12][0]               \n",
      "                                                                 concatenate[13][0]               \n",
      "                                                                 concatenate[14][0]               \n",
      "                                                                 concatenate[15][0]               \n",
      "                                                                 concatenate[16][0]               \n",
      "                                                                 concatenate[17][0]               \n",
      "                                                                 concatenate[18][0]               \n",
      "                                                                 concatenate[19][0]               \n",
      "                                                                 concatenate[20][0]               \n",
      "                                                                 concatenate[21][0]               \n",
      "                                                                 concatenate[22][0]               \n",
      "                                                                 concatenate[23][0]               \n",
      "                                                                 concatenate[24][0]               \n",
      "                                                                 concatenate[25][0]               \n",
      "                                                                 concatenate[26][0]               \n",
      "                                                                 concatenate[27][0]               \n",
      "                                                                 concatenate[28][0]               \n",
      "                                                                 concatenate[29][0]               \n",
      "                                                                 concatenate[30][0]               \n",
      "                                                                 concatenate[31][0]               \n",
      "                                                                 concatenate[32][0]               \n",
      "                                                                 concatenate[33][0]               \n",
      "                                                                 concatenate[34][0]               \n",
      "                                                                 concatenate[35][0]               \n",
      "                                                                 concatenate[36][0]               \n",
      "                                                                 concatenate[37][0]               \n",
      "                                                                 concatenate[38][0]               \n",
      "                                                                 concatenate[39][0]               \n",
      "                                                                 concatenate[40][0]               \n",
      "                                                                 concatenate[41][0]               \n",
      "                                                                 concatenate[42][0]               \n",
      "                                                                 concatenate[43][0]               \n",
      "                                                                 concatenate[44][0]               \n",
      "                                                                 concatenate[45][0]               \n",
      "                                                                 concatenate[46][0]               \n",
      "                                                                 concatenate[47][0]               \n",
      "                                                                 concatenate[48][0]               \n",
      "                                                                 concatenate[49][0]               \n",
      "                                                                 concatenate[50][0]               \n",
      "                                                                 concatenate[51][0]               \n",
      "                                                                 concatenate[52][0]               \n",
      "                                                                 concatenate[53][0]               \n",
      "                                                                 concatenate[54][0]               \n",
      "                                                                 concatenate[55][0]               \n",
      "                                                                 concatenate[56][0]               \n",
      "                                                                 concatenate[57][0]               \n",
      "                                                                 concatenate[58][0]               \n",
      "                                                                 concatenate[59][0]               \n",
      "                                                                 concatenate[60][0]               \n",
      "                                                                 concatenate[61][0]               \n",
      "                                                                 concatenate[62][0]               \n",
      "__________________________________________________________________________________________________\n",
      "input_2 (InputLayer)            [(None, 63)]         0                                            \n",
      "__________________________________________________________________________________________________\n",
      "dense_1 (Dense)                 (None, 16, 1)        11          dense[0][0]                      \n",
      "                                                                 dense[1][0]                      \n",
      "                                                                 dense[2][0]                      \n",
      "                                                                 dense[3][0]                      \n",
      "                                                                 dense[4][0]                      \n",
      "                                                                 dense[5][0]                      \n",
      "                                                                 dense[6][0]                      \n",
      "                                                                 dense[7][0]                      \n",
      "                                                                 dense[8][0]                      \n",
      "                                                                 dense[9][0]                      \n",
      "                                                                 dense[10][0]                     \n",
      "                                                                 dense[11][0]                     \n",
      "                                                                 dense[12][0]                     \n",
      "                                                                 dense[13][0]                     \n",
      "                                                                 dense[14][0]                     \n",
      "                                                                 dense[15][0]                     \n",
      "                                                                 dense[16][0]                     \n",
      "                                                                 dense[17][0]                     \n",
      "                                                                 dense[18][0]                     \n",
      "                                                                 dense[19][0]                     \n",
      "                                                                 dense[20][0]                     \n",
      "                                                                 dense[21][0]                     \n",
      "                                                                 dense[22][0]                     \n",
      "                                                                 dense[23][0]                     \n",
      "                                                                 dense[24][0]                     \n",
      "                                                                 dense[25][0]                     \n",
      "                                                                 dense[26][0]                     \n",
      "                                                                 dense[27][0]                     \n",
      "                                                                 dense[28][0]                     \n",
      "                                                                 dense[29][0]                     \n",
      "                                                                 dense[30][0]                     \n",
      "                                                                 dense[31][0]                     \n",
      "                                                                 dense[32][0]                     \n",
      "                                                                 dense[33][0]                     \n",
      "                                                                 dense[34][0]                     \n",
      "                                                                 dense[35][0]                     \n",
      "                                                                 dense[36][0]                     \n",
      "                                                                 dense[37][0]                     \n",
      "                                                                 dense[38][0]                     \n",
      "                                                                 dense[39][0]                     \n",
      "                                                                 dense[40][0]                     \n",
      "                                                                 dense[41][0]                     \n",
      "                                                                 dense[42][0]                     \n",
      "                                                                 dense[43][0]                     \n",
      "                                                                 dense[44][0]                     \n",
      "                                                                 dense[45][0]                     \n",
      "                                                                 dense[46][0]                     \n",
      "                                                                 dense[47][0]                     \n",
      "                                                                 dense[48][0]                     \n",
      "                                                                 dense[49][0]                     \n",
      "                                                                 dense[50][0]                     \n",
      "                                                                 dense[51][0]                     \n",
      "                                                                 dense[52][0]                     \n",
      "                                                                 dense[53][0]                     \n",
      "                                                                 dense[54][0]                     \n",
      "                                                                 dense[55][0]                     \n",
      "                                                                 dense[56][0]                     \n",
      "                                                                 dense[57][0]                     \n",
      "                                                                 dense[58][0]                     \n",
      "                                                                 dense[59][0]                     \n",
      "                                                                 dense[60][0]                     \n",
      "                                                                 dense[61][0]                     \n",
      "                                                                 dense[62][0]                     \n",
      "__________________________________________________________________________________________________\n",
      "embedding_1 (Embedding)         (None, 63, 200)      1147800     input_2[0][0]                    \n",
      "__________________________________________________________________________________________________\n",
      "dot (Dot)                       (None, 1, 800)       0           dense_1[0][0]                    \n",
      "                                                                 bidirectional[0][0]              \n",
      "                                                                 dense_1[1][0]                    \n",
      "                                                                 bidirectional[0][0]              \n",
      "                                                                 dense_1[2][0]                    \n",
      "                                                                 bidirectional[0][0]              \n",
      "                                                                 dense_1[3][0]                    \n",
      "                                                                 bidirectional[0][0]              \n",
      "                                                                 dense_1[4][0]                    \n",
      "                                                                 bidirectional[0][0]              \n",
      "                                                                 dense_1[5][0]                    \n",
      "                                                                 bidirectional[0][0]              \n",
      "                                                                 dense_1[6][0]                    \n",
      "                                                                 bidirectional[0][0]              \n",
      "                                                                 dense_1[7][0]                    \n",
      "                                                                 bidirectional[0][0]              \n",
      "                                                                 dense_1[8][0]                    \n",
      "                                                                 bidirectional[0][0]              \n",
      "                                                                 dense_1[9][0]                    \n",
      "                                                                 bidirectional[0][0]              \n",
      "                                                                 dense_1[10][0]                   \n",
      "                                                                 bidirectional[0][0]              \n",
      "                                                                 dense_1[11][0]                   \n",
      "                                                                 bidirectional[0][0]              \n",
      "                                                                 dense_1[12][0]                   \n",
      "                                                                 bidirectional[0][0]              \n",
      "                                                                 dense_1[13][0]                   \n",
      "                                                                 bidirectional[0][0]              \n",
      "                                                                 dense_1[14][0]                   \n",
      "                                                                 bidirectional[0][0]              \n",
      "                                                                 dense_1[15][0]                   \n",
      "                                                                 bidirectional[0][0]              \n",
      "                                                                 dense_1[16][0]                   \n",
      "                                                                 bidirectional[0][0]              \n",
      "                                                                 dense_1[17][0]                   \n",
      "                                                                 bidirectional[0][0]              \n",
      "                                                                 dense_1[18][0]                   \n",
      "                                                                 bidirectional[0][0]              \n",
      "                                                                 dense_1[19][0]                   \n",
      "                                                                 bidirectional[0][0]              \n",
      "                                                                 dense_1[20][0]                   \n",
      "                                                                 bidirectional[0][0]              \n",
      "                                                                 dense_1[21][0]                   \n",
      "                                                                 bidirectional[0][0]              \n",
      "                                                                 dense_1[22][0]                   \n",
      "                                                                 bidirectional[0][0]              \n",
      "                                                                 dense_1[23][0]                   \n",
      "                                                                 bidirectional[0][0]              \n",
      "                                                                 dense_1[24][0]                   \n",
      "                                                                 bidirectional[0][0]              \n",
      "                                                                 dense_1[25][0]                   \n",
      "                                                                 bidirectional[0][0]              \n",
      "                                                                 dense_1[26][0]                   \n",
      "                                                                 bidirectional[0][0]              \n",
      "                                                                 dense_1[27][0]                   \n",
      "                                                                 bidirectional[0][0]              \n",
      "                                                                 dense_1[28][0]                   \n",
      "                                                                 bidirectional[0][0]              \n",
      "                                                                 dense_1[29][0]                   \n",
      "                                                                 bidirectional[0][0]              \n",
      "                                                                 dense_1[30][0]                   \n",
      "                                                                 bidirectional[0][0]              \n",
      "                                                                 dense_1[31][0]                   \n",
      "                                                                 bidirectional[0][0]              \n",
      "                                                                 dense_1[32][0]                   \n",
      "                                                                 bidirectional[0][0]              \n",
      "                                                                 dense_1[33][0]                   \n",
      "                                                                 bidirectional[0][0]              \n",
      "                                                                 dense_1[34][0]                   \n",
      "                                                                 bidirectional[0][0]              \n",
      "                                                                 dense_1[35][0]                   \n",
      "                                                                 bidirectional[0][0]              \n",
      "                                                                 dense_1[36][0]                   \n",
      "                                                                 bidirectional[0][0]              \n",
      "                                                                 dense_1[37][0]                   \n",
      "                                                                 bidirectional[0][0]              \n",
      "                                                                 dense_1[38][0]                   \n",
      "                                                                 bidirectional[0][0]              \n",
      "                                                                 dense_1[39][0]                   \n",
      "                                                                 bidirectional[0][0]              \n",
      "                                                                 dense_1[40][0]                   \n",
      "                                                                 bidirectional[0][0]              \n",
      "                                                                 dense_1[41][0]                   \n",
      "                                                                 bidirectional[0][0]              \n",
      "                                                                 dense_1[42][0]                   \n",
      "                                                                 bidirectional[0][0]              \n",
      "                                                                 dense_1[43][0]                   \n",
      "                                                                 bidirectional[0][0]              \n",
      "                                                                 dense_1[44][0]                   \n",
      "                                                                 bidirectional[0][0]              \n",
      "                                                                 dense_1[45][0]                   \n",
      "                                                                 bidirectional[0][0]              \n",
      "                                                                 dense_1[46][0]                   \n",
      "                                                                 bidirectional[0][0]              \n",
      "                                                                 dense_1[47][0]                   \n",
      "                                                                 bidirectional[0][0]              \n",
      "                                                                 dense_1[48][0]                   \n",
      "                                                                 bidirectional[0][0]              \n",
      "                                                                 dense_1[49][0]                   \n",
      "                                                                 bidirectional[0][0]              \n",
      "                                                                 dense_1[50][0]                   \n",
      "                                                                 bidirectional[0][0]              \n",
      "                                                                 dense_1[51][0]                   \n",
      "                                                                 bidirectional[0][0]              \n",
      "                                                                 dense_1[52][0]                   \n",
      "                                                                 bidirectional[0][0]              \n",
      "                                                                 dense_1[53][0]                   \n",
      "                                                                 bidirectional[0][0]              \n",
      "                                                                 dense_1[54][0]                   \n",
      "                                                                 bidirectional[0][0]              \n",
      "                                                                 dense_1[55][0]                   \n",
      "                                                                 bidirectional[0][0]              \n",
      "                                                                 dense_1[56][0]                   \n",
      "                                                                 bidirectional[0][0]              \n",
      "                                                                 dense_1[57][0]                   \n",
      "                                                                 bidirectional[0][0]              \n",
      "                                                                 dense_1[58][0]                   \n",
      "                                                                 bidirectional[0][0]              \n",
      "                                                                 dense_1[59][0]                   \n",
      "                                                                 bidirectional[0][0]              \n",
      "                                                                 dense_1[60][0]                   \n",
      "                                                                 bidirectional[0][0]              \n",
      "                                                                 dense_1[61][0]                   \n",
      "                                                                 bidirectional[0][0]              \n",
      "                                                                 dense_1[62][0]                   \n",
      "                                                                 bidirectional[0][0]              \n",
      "__________________________________________________________________________________________________\n",
      "lambda (Lambda)                 (None, 1, 200)       0           embedding_1[0][0]                \n",
      "__________________________________________________________________________________________________\n",
      "concatenate_1 (Concatenate)     (None, 1, 1000)      0           dot[0][0]                        \n",
      "                                                                 lambda[0][0]                     \n",
      "                                                                 dot[1][0]                        \n",
      "                                                                 lambda_1[0][0]                   \n",
      "                                                                 dot[2][0]                        \n",
      "                                                                 lambda_2[0][0]                   \n",
      "                                                                 dot[3][0]                        \n",
      "                                                                 lambda_3[0][0]                   \n",
      "                                                                 dot[4][0]                        \n",
      "                                                                 lambda_4[0][0]                   \n",
      "                                                                 dot[5][0]                        \n",
      "                                                                 lambda_5[0][0]                   \n",
      "                                                                 dot[6][0]                        \n",
      "                                                                 lambda_6[0][0]                   \n",
      "                                                                 dot[7][0]                        \n",
      "                                                                 lambda_7[0][0]                   \n",
      "                                                                 dot[8][0]                        \n",
      "                                                                 lambda_8[0][0]                   \n",
      "                                                                 dot[9][0]                        \n",
      "                                                                 lambda_9[0][0]                   \n",
      "                                                                 dot[10][0]                       \n",
      "                                                                 lambda_10[0][0]                  \n",
      "                                                                 dot[11][0]                       \n",
      "                                                                 lambda_11[0][0]                  \n",
      "                                                                 dot[12][0]                       \n",
      "                                                                 lambda_12[0][0]                  \n",
      "                                                                 dot[13][0]                       \n",
      "                                                                 lambda_13[0][0]                  \n",
      "                                                                 dot[14][0]                       \n",
      "                                                                 lambda_14[0][0]                  \n",
      "                                                                 dot[15][0]                       \n",
      "                                                                 lambda_15[0][0]                  \n",
      "                                                                 dot[16][0]                       \n",
      "                                                                 lambda_16[0][0]                  \n",
      "                                                                 dot[17][0]                       \n",
      "                                                                 lambda_17[0][0]                  \n",
      "                                                                 dot[18][0]                       \n",
      "                                                                 lambda_18[0][0]                  \n",
      "                                                                 dot[19][0]                       \n",
      "                                                                 lambda_19[0][0]                  \n",
      "                                                                 dot[20][0]                       \n",
      "                                                                 lambda_20[0][0]                  \n",
      "                                                                 dot[21][0]                       \n",
      "                                                                 lambda_21[0][0]                  \n",
      "                                                                 dot[22][0]                       \n",
      "                                                                 lambda_22[0][0]                  \n",
      "                                                                 dot[23][0]                       \n",
      "                                                                 lambda_23[0][0]                  \n",
      "                                                                 dot[24][0]                       \n",
      "                                                                 lambda_24[0][0]                  \n",
      "                                                                 dot[25][0]                       \n",
      "                                                                 lambda_25[0][0]                  \n",
      "                                                                 dot[26][0]                       \n",
      "                                                                 lambda_26[0][0]                  \n",
      "                                                                 dot[27][0]                       \n",
      "                                                                 lambda_27[0][0]                  \n",
      "                                                                 dot[28][0]                       \n",
      "                                                                 lambda_28[0][0]                  \n",
      "                                                                 dot[29][0]                       \n",
      "                                                                 lambda_29[0][0]                  \n",
      "                                                                 dot[30][0]                       \n",
      "                                                                 lambda_30[0][0]                  \n",
      "                                                                 dot[31][0]                       \n",
      "                                                                 lambda_31[0][0]                  \n",
      "                                                                 dot[32][0]                       \n",
      "                                                                 lambda_32[0][0]                  \n",
      "                                                                 dot[33][0]                       \n",
      "                                                                 lambda_33[0][0]                  \n",
      "                                                                 dot[34][0]                       \n",
      "                                                                 lambda_34[0][0]                  \n",
      "                                                                 dot[35][0]                       \n",
      "                                                                 lambda_35[0][0]                  \n",
      "                                                                 dot[36][0]                       \n",
      "                                                                 lambda_36[0][0]                  \n",
      "                                                                 dot[37][0]                       \n",
      "                                                                 lambda_37[0][0]                  \n",
      "                                                                 dot[38][0]                       \n",
      "                                                                 lambda_38[0][0]                  \n",
      "                                                                 dot[39][0]                       \n",
      "                                                                 lambda_39[0][0]                  \n",
      "                                                                 dot[40][0]                       \n",
      "                                                                 lambda_40[0][0]                  \n",
      "                                                                 dot[41][0]                       \n",
      "                                                                 lambda_41[0][0]                  \n",
      "                                                                 dot[42][0]                       \n",
      "                                                                 lambda_42[0][0]                  \n",
      "                                                                 dot[43][0]                       \n",
      "                                                                 lambda_43[0][0]                  \n",
      "                                                                 dot[44][0]                       \n",
      "                                                                 lambda_44[0][0]                  \n",
      "                                                                 dot[45][0]                       \n",
      "                                                                 lambda_45[0][0]                  \n",
      "                                                                 dot[46][0]                       \n",
      "                                                                 lambda_46[0][0]                  \n",
      "                                                                 dot[47][0]                       \n",
      "                                                                 lambda_47[0][0]                  \n",
      "                                                                 dot[48][0]                       \n",
      "                                                                 lambda_48[0][0]                  \n",
      "                                                                 dot[49][0]                       \n",
      "                                                                 lambda_49[0][0]                  \n",
      "                                                                 dot[50][0]                       \n",
      "                                                                 lambda_50[0][0]                  \n",
      "                                                                 dot[51][0]                       \n",
      "                                                                 lambda_51[0][0]                  \n",
      "                                                                 dot[52][0]                       \n",
      "                                                                 lambda_52[0][0]                  \n",
      "                                                                 dot[53][0]                       \n",
      "                                                                 lambda_53[0][0]                  \n",
      "                                                                 dot[54][0]                       \n",
      "                                                                 lambda_54[0][0]                  \n",
      "                                                                 dot[55][0]                       \n",
      "                                                                 lambda_55[0][0]                  \n",
      "                                                                 dot[56][0]                       \n",
      "                                                                 lambda_56[0][0]                  \n",
      "                                                                 dot[57][0]                       \n",
      "                                                                 lambda_57[0][0]                  \n",
      "                                                                 dot[58][0]                       \n",
      "                                                                 lambda_58[0][0]                  \n",
      "                                                                 dot[59][0]                       \n",
      "                                                                 lambda_59[0][0]                  \n",
      "                                                                 dot[60][0]                       \n",
      "                                                                 lambda_60[0][0]                  \n",
      "                                                                 dot[61][0]                       \n",
      "                                                                 lambda_61[0][0]                  \n",
      "                                                                 dot[62][0]                       \n",
      "                                                                 lambda_62[0][0]                  \n",
      "__________________________________________________________________________________________________\n",
      "c0 (InputLayer)                 [(None, 450)]        0                                            \n",
      "__________________________________________________________________________________________________\n",
      "lstm_1 (LSTM)                   [(None, 450), (None, 2611800     concatenate_1[0][0]              \n",
      "                                                                 s0[0][0]                         \n",
      "                                                                 c0[0][0]                         \n",
      "                                                                 concatenate_1[1][0]              \n",
      "                                                                 lstm_1[0][1]                     \n",
      "                                                                 lstm_1[0][2]                     \n",
      "                                                                 concatenate_1[2][0]              \n",
      "                                                                 lstm_1[1][1]                     \n",
      "                                                                 lstm_1[1][2]                     \n",
      "                                                                 concatenate_1[3][0]              \n",
      "                                                                 lstm_1[2][1]                     \n",
      "                                                                 lstm_1[2][2]                     \n",
      "                                                                 concatenate_1[4][0]              \n",
      "                                                                 lstm_1[3][1]                     \n",
      "                                                                 lstm_1[3][2]                     \n",
      "                                                                 concatenate_1[5][0]              \n",
      "                                                                 lstm_1[4][1]                     \n",
      "                                                                 lstm_1[4][2]                     \n",
      "                                                                 concatenate_1[6][0]              \n",
      "                                                                 lstm_1[5][1]                     \n",
      "                                                                 lstm_1[5][2]                     \n",
      "                                                                 concatenate_1[7][0]              \n",
      "                                                                 lstm_1[6][1]                     \n",
      "                                                                 lstm_1[6][2]                     \n",
      "                                                                 concatenate_1[8][0]              \n",
      "                                                                 lstm_1[7][1]                     \n",
      "                                                                 lstm_1[7][2]                     \n",
      "                                                                 concatenate_1[9][0]              \n",
      "                                                                 lstm_1[8][1]                     \n",
      "                                                                 lstm_1[8][2]                     \n",
      "                                                                 concatenate_1[10][0]             \n",
      "                                                                 lstm_1[9][1]                     \n",
      "                                                                 lstm_1[9][2]                     \n",
      "                                                                 concatenate_1[11][0]             \n",
      "                                                                 lstm_1[10][1]                    \n",
      "                                                                 lstm_1[10][2]                    \n",
      "                                                                 concatenate_1[12][0]             \n",
      "                                                                 lstm_1[11][1]                    \n",
      "                                                                 lstm_1[11][2]                    \n",
      "                                                                 concatenate_1[13][0]             \n",
      "                                                                 lstm_1[12][1]                    \n",
      "                                                                 lstm_1[12][2]                    \n",
      "                                                                 concatenate_1[14][0]             \n",
      "                                                                 lstm_1[13][1]                    \n",
      "                                                                 lstm_1[13][2]                    \n",
      "                                                                 concatenate_1[15][0]             \n",
      "                                                                 lstm_1[14][1]                    \n",
      "                                                                 lstm_1[14][2]                    \n",
      "                                                                 concatenate_1[16][0]             \n",
      "                                                                 lstm_1[15][1]                    \n",
      "                                                                 lstm_1[15][2]                    \n",
      "                                                                 concatenate_1[17][0]             \n",
      "                                                                 lstm_1[16][1]                    \n",
      "                                                                 lstm_1[16][2]                    \n",
      "                                                                 concatenate_1[18][0]             \n",
      "                                                                 lstm_1[17][1]                    \n",
      "                                                                 lstm_1[17][2]                    \n",
      "                                                                 concatenate_1[19][0]             \n",
      "                                                                 lstm_1[18][1]                    \n",
      "                                                                 lstm_1[18][2]                    \n",
      "                                                                 concatenate_1[20][0]             \n",
      "                                                                 lstm_1[19][1]                    \n",
      "                                                                 lstm_1[19][2]                    \n",
      "                                                                 concatenate_1[21][0]             \n",
      "                                                                 lstm_1[20][1]                    \n",
      "                                                                 lstm_1[20][2]                    \n",
      "                                                                 concatenate_1[22][0]             \n",
      "                                                                 lstm_1[21][1]                    \n",
      "                                                                 lstm_1[21][2]                    \n",
      "                                                                 concatenate_1[23][0]             \n",
      "                                                                 lstm_1[22][1]                    \n",
      "                                                                 lstm_1[22][2]                    \n",
      "                                                                 concatenate_1[24][0]             \n",
      "                                                                 lstm_1[23][1]                    \n",
      "                                                                 lstm_1[23][2]                    \n",
      "                                                                 concatenate_1[25][0]             \n",
      "                                                                 lstm_1[24][1]                    \n",
      "                                                                 lstm_1[24][2]                    \n",
      "                                                                 concatenate_1[26][0]             \n",
      "                                                                 lstm_1[25][1]                    \n",
      "                                                                 lstm_1[25][2]                    \n",
      "                                                                 concatenate_1[27][0]             \n",
      "                                                                 lstm_1[26][1]                    \n",
      "                                                                 lstm_1[26][2]                    \n",
      "                                                                 concatenate_1[28][0]             \n",
      "                                                                 lstm_1[27][1]                    \n",
      "                                                                 lstm_1[27][2]                    \n",
      "                                                                 concatenate_1[29][0]             \n",
      "                                                                 lstm_1[28][1]                    \n",
      "                                                                 lstm_1[28][2]                    \n",
      "                                                                 concatenate_1[30][0]             \n",
      "                                                                 lstm_1[29][1]                    \n",
      "                                                                 lstm_1[29][2]                    \n",
      "                                                                 concatenate_1[31][0]             \n",
      "                                                                 lstm_1[30][1]                    \n",
      "                                                                 lstm_1[30][2]                    \n",
      "                                                                 concatenate_1[32][0]             \n",
      "                                                                 lstm_1[31][1]                    \n",
      "                                                                 lstm_1[31][2]                    \n",
      "                                                                 concatenate_1[33][0]             \n",
      "                                                                 lstm_1[32][1]                    \n",
      "                                                                 lstm_1[32][2]                    \n",
      "                                                                 concatenate_1[34][0]             \n",
      "                                                                 lstm_1[33][1]                    \n",
      "                                                                 lstm_1[33][2]                    \n",
      "                                                                 concatenate_1[35][0]             \n",
      "                                                                 lstm_1[34][1]                    \n",
      "                                                                 lstm_1[34][2]                    \n",
      "                                                                 concatenate_1[36][0]             \n",
      "                                                                 lstm_1[35][1]                    \n",
      "                                                                 lstm_1[35][2]                    \n",
      "                                                                 concatenate_1[37][0]             \n",
      "                                                                 lstm_1[36][1]                    \n",
      "                                                                 lstm_1[36][2]                    \n",
      "                                                                 concatenate_1[38][0]             \n",
      "                                                                 lstm_1[37][1]                    \n",
      "                                                                 lstm_1[37][2]                    \n",
      "                                                                 concatenate_1[39][0]             \n",
      "                                                                 lstm_1[38][1]                    \n",
      "                                                                 lstm_1[38][2]                    \n",
      "                                                                 concatenate_1[40][0]             \n",
      "                                                                 lstm_1[39][1]                    \n",
      "                                                                 lstm_1[39][2]                    \n",
      "                                                                 concatenate_1[41][0]             \n",
      "                                                                 lstm_1[40][1]                    \n",
      "                                                                 lstm_1[40][2]                    \n",
      "                                                                 concatenate_1[42][0]             \n",
      "                                                                 lstm_1[41][1]                    \n",
      "                                                                 lstm_1[41][2]                    \n",
      "                                                                 concatenate_1[43][0]             \n",
      "                                                                 lstm_1[42][1]                    \n",
      "                                                                 lstm_1[42][2]                    \n",
      "                                                                 concatenate_1[44][0]             \n",
      "                                                                 lstm_1[43][1]                    \n",
      "                                                                 lstm_1[43][2]                    \n",
      "                                                                 concatenate_1[45][0]             \n",
      "                                                                 lstm_1[44][1]                    \n",
      "                                                                 lstm_1[44][2]                    \n",
      "                                                                 concatenate_1[46][0]             \n",
      "                                                                 lstm_1[45][1]                    \n",
      "                                                                 lstm_1[45][2]                    \n",
      "                                                                 concatenate_1[47][0]             \n",
      "                                                                 lstm_1[46][1]                    \n",
      "                                                                 lstm_1[46][2]                    \n",
      "                                                                 concatenate_1[48][0]             \n",
      "                                                                 lstm_1[47][1]                    \n",
      "                                                                 lstm_1[47][2]                    \n",
      "                                                                 concatenate_1[49][0]             \n",
      "                                                                 lstm_1[48][1]                    \n",
      "                                                                 lstm_1[48][2]                    \n",
      "                                                                 concatenate_1[50][0]             \n",
      "                                                                 lstm_1[49][1]                    \n",
      "                                                                 lstm_1[49][2]                    \n",
      "                                                                 concatenate_1[51][0]             \n",
      "                                                                 lstm_1[50][1]                    \n",
      "                                                                 lstm_1[50][2]                    \n",
      "                                                                 concatenate_1[52][0]             \n",
      "                                                                 lstm_1[51][1]                    \n",
      "                                                                 lstm_1[51][2]                    \n",
      "                                                                 concatenate_1[53][0]             \n",
      "                                                                 lstm_1[52][1]                    \n",
      "                                                                 lstm_1[52][2]                    \n",
      "                                                                 concatenate_1[54][0]             \n",
      "                                                                 lstm_1[53][1]                    \n",
      "                                                                 lstm_1[53][2]                    \n",
      "                                                                 concatenate_1[55][0]             \n",
      "                                                                 lstm_1[54][1]                    \n",
      "                                                                 lstm_1[54][2]                    \n",
      "                                                                 concatenate_1[56][0]             \n",
      "                                                                 lstm_1[55][1]                    \n",
      "                                                                 lstm_1[55][2]                    \n",
      "                                                                 concatenate_1[57][0]             \n",
      "                                                                 lstm_1[56][1]                    \n",
      "                                                                 lstm_1[56][2]                    \n",
      "                                                                 concatenate_1[58][0]             \n",
      "                                                                 lstm_1[57][1]                    \n",
      "                                                                 lstm_1[57][2]                    \n",
      "                                                                 concatenate_1[59][0]             \n",
      "                                                                 lstm_1[58][1]                    \n",
      "                                                                 lstm_1[58][2]                    \n",
      "                                                                 concatenate_1[60][0]             \n",
      "                                                                 lstm_1[59][1]                    \n",
      "                                                                 lstm_1[59][2]                    \n",
      "                                                                 concatenate_1[61][0]             \n",
      "                                                                 lstm_1[60][1]                    \n",
      "                                                                 lstm_1[60][2]                    \n",
      "                                                                 concatenate_1[62][0]             \n",
      "                                                                 lstm_1[61][1]                    \n",
      "                                                                 lstm_1[61][2]                    \n",
      "__________________________________________________________________________________________________\n",
      "lambda_1 (Lambda)               (None, 1, 200)       0           embedding_1[0][0]                \n",
      "__________________________________________________________________________________________________\n",
      "lambda_2 (Lambda)               (None, 1, 200)       0           embedding_1[0][0]                \n",
      "__________________________________________________________________________________________________\n",
      "lambda_3 (Lambda)               (None, 1, 200)       0           embedding_1[0][0]                \n",
      "__________________________________________________________________________________________________\n",
      "lambda_4 (Lambda)               (None, 1, 200)       0           embedding_1[0][0]                \n",
      "__________________________________________________________________________________________________\n",
      "lambda_5 (Lambda)               (None, 1, 200)       0           embedding_1[0][0]                \n",
      "__________________________________________________________________________________________________\n",
      "lambda_6 (Lambda)               (None, 1, 200)       0           embedding_1[0][0]                \n",
      "__________________________________________________________________________________________________\n",
      "lambda_7 (Lambda)               (None, 1, 200)       0           embedding_1[0][0]                \n",
      "__________________________________________________________________________________________________\n",
      "lambda_8 (Lambda)               (None, 1, 200)       0           embedding_1[0][0]                \n",
      "__________________________________________________________________________________________________\n",
      "lambda_9 (Lambda)               (None, 1, 200)       0           embedding_1[0][0]                \n",
      "__________________________________________________________________________________________________\n",
      "lambda_10 (Lambda)              (None, 1, 200)       0           embedding_1[0][0]                \n",
      "__________________________________________________________________________________________________\n",
      "lambda_11 (Lambda)              (None, 1, 200)       0           embedding_1[0][0]                \n",
      "__________________________________________________________________________________________________\n",
      "lambda_12 (Lambda)              (None, 1, 200)       0           embedding_1[0][0]                \n",
      "__________________________________________________________________________________________________\n",
      "lambda_13 (Lambda)              (None, 1, 200)       0           embedding_1[0][0]                \n",
      "__________________________________________________________________________________________________\n",
      "lambda_14 (Lambda)              (None, 1, 200)       0           embedding_1[0][0]                \n",
      "__________________________________________________________________________________________________\n",
      "lambda_15 (Lambda)              (None, 1, 200)       0           embedding_1[0][0]                \n",
      "__________________________________________________________________________________________________\n",
      "lambda_16 (Lambda)              (None, 1, 200)       0           embedding_1[0][0]                \n",
      "__________________________________________________________________________________________________\n",
      "lambda_17 (Lambda)              (None, 1, 200)       0           embedding_1[0][0]                \n",
      "__________________________________________________________________________________________________\n",
      "lambda_18 (Lambda)              (None, 1, 200)       0           embedding_1[0][0]                \n",
      "__________________________________________________________________________________________________\n",
      "lambda_19 (Lambda)              (None, 1, 200)       0           embedding_1[0][0]                \n",
      "__________________________________________________________________________________________________\n",
      "lambda_20 (Lambda)              (None, 1, 200)       0           embedding_1[0][0]                \n",
      "__________________________________________________________________________________________________\n",
      "lambda_21 (Lambda)              (None, 1, 200)       0           embedding_1[0][0]                \n",
      "__________________________________________________________________________________________________\n",
      "lambda_22 (Lambda)              (None, 1, 200)       0           embedding_1[0][0]                \n",
      "__________________________________________________________________________________________________\n",
      "lambda_23 (Lambda)              (None, 1, 200)       0           embedding_1[0][0]                \n",
      "__________________________________________________________________________________________________\n",
      "lambda_24 (Lambda)              (None, 1, 200)       0           embedding_1[0][0]                \n",
      "__________________________________________________________________________________________________\n",
      "lambda_25 (Lambda)              (None, 1, 200)       0           embedding_1[0][0]                \n",
      "__________________________________________________________________________________________________\n",
      "lambda_26 (Lambda)              (None, 1, 200)       0           embedding_1[0][0]                \n",
      "__________________________________________________________________________________________________\n",
      "lambda_27 (Lambda)              (None, 1, 200)       0           embedding_1[0][0]                \n",
      "__________________________________________________________________________________________________\n",
      "lambda_28 (Lambda)              (None, 1, 200)       0           embedding_1[0][0]                \n",
      "__________________________________________________________________________________________________\n",
      "lambda_29 (Lambda)              (None, 1, 200)       0           embedding_1[0][0]                \n",
      "__________________________________________________________________________________________________\n",
      "lambda_30 (Lambda)              (None, 1, 200)       0           embedding_1[0][0]                \n",
      "__________________________________________________________________________________________________\n",
      "lambda_31 (Lambda)              (None, 1, 200)       0           embedding_1[0][0]                \n",
      "__________________________________________________________________________________________________\n",
      "lambda_32 (Lambda)              (None, 1, 200)       0           embedding_1[0][0]                \n",
      "__________________________________________________________________________________________________\n",
      "lambda_33 (Lambda)              (None, 1, 200)       0           embedding_1[0][0]                \n",
      "__________________________________________________________________________________________________\n",
      "lambda_34 (Lambda)              (None, 1, 200)       0           embedding_1[0][0]                \n",
      "__________________________________________________________________________________________________\n",
      "lambda_35 (Lambda)              (None, 1, 200)       0           embedding_1[0][0]                \n",
      "__________________________________________________________________________________________________\n",
      "lambda_36 (Lambda)              (None, 1, 200)       0           embedding_1[0][0]                \n",
      "__________________________________________________________________________________________________\n",
      "lambda_37 (Lambda)              (None, 1, 200)       0           embedding_1[0][0]                \n",
      "__________________________________________________________________________________________________\n",
      "lambda_38 (Lambda)              (None, 1, 200)       0           embedding_1[0][0]                \n",
      "__________________________________________________________________________________________________\n",
      "lambda_39 (Lambda)              (None, 1, 200)       0           embedding_1[0][0]                \n",
      "__________________________________________________________________________________________________\n",
      "lambda_40 (Lambda)              (None, 1, 200)       0           embedding_1[0][0]                \n",
      "__________________________________________________________________________________________________\n",
      "lambda_41 (Lambda)              (None, 1, 200)       0           embedding_1[0][0]                \n",
      "__________________________________________________________________________________________________\n",
      "lambda_42 (Lambda)              (None, 1, 200)       0           embedding_1[0][0]                \n",
      "__________________________________________________________________________________________________\n",
      "lambda_43 (Lambda)              (None, 1, 200)       0           embedding_1[0][0]                \n",
      "__________________________________________________________________________________________________\n",
      "lambda_44 (Lambda)              (None, 1, 200)       0           embedding_1[0][0]                \n",
      "__________________________________________________________________________________________________\n",
      "lambda_45 (Lambda)              (None, 1, 200)       0           embedding_1[0][0]                \n",
      "__________________________________________________________________________________________________\n",
      "lambda_46 (Lambda)              (None, 1, 200)       0           embedding_1[0][0]                \n",
      "__________________________________________________________________________________________________\n",
      "lambda_47 (Lambda)              (None, 1, 200)       0           embedding_1[0][0]                \n",
      "__________________________________________________________________________________________________\n",
      "lambda_48 (Lambda)              (None, 1, 200)       0           embedding_1[0][0]                \n",
      "__________________________________________________________________________________________________\n",
      "lambda_49 (Lambda)              (None, 1, 200)       0           embedding_1[0][0]                \n",
      "__________________________________________________________________________________________________\n",
      "lambda_50 (Lambda)              (None, 1, 200)       0           embedding_1[0][0]                \n",
      "__________________________________________________________________________________________________\n",
      "lambda_51 (Lambda)              (None, 1, 200)       0           embedding_1[0][0]                \n",
      "__________________________________________________________________________________________________\n",
      "lambda_52 (Lambda)              (None, 1, 200)       0           embedding_1[0][0]                \n",
      "__________________________________________________________________________________________________\n",
      "lambda_53 (Lambda)              (None, 1, 200)       0           embedding_1[0][0]                \n",
      "__________________________________________________________________________________________________\n",
      "lambda_54 (Lambda)              (None, 1, 200)       0           embedding_1[0][0]                \n",
      "__________________________________________________________________________________________________\n",
      "lambda_55 (Lambda)              (None, 1, 200)       0           embedding_1[0][0]                \n",
      "__________________________________________________________________________________________________\n",
      "lambda_56 (Lambda)              (None, 1, 200)       0           embedding_1[0][0]                \n",
      "__________________________________________________________________________________________________\n",
      "lambda_57 (Lambda)              (None, 1, 200)       0           embedding_1[0][0]                \n",
      "__________________________________________________________________________________________________\n",
      "lambda_58 (Lambda)              (None, 1, 200)       0           embedding_1[0][0]                \n",
      "__________________________________________________________________________________________________\n",
      "lambda_59 (Lambda)              (None, 1, 200)       0           embedding_1[0][0]                \n",
      "__________________________________________________________________________________________________\n",
      "lambda_60 (Lambda)              (None, 1, 200)       0           embedding_1[0][0]                \n",
      "__________________________________________________________________________________________________\n",
      "lambda_61 (Lambda)              (None, 1, 200)       0           embedding_1[0][0]                \n",
      "__________________________________________________________________________________________________\n",
      "lambda_62 (Lambda)              (None, 1, 200)       0           embedding_1[0][0]                \n",
      "__________________________________________________________________________________________________\n",
      "dense_2 (Dense)                 (None, 5739)         2588289     lstm_1[0][0]                     \n",
      "                                                                 lstm_1[1][0]                     \n",
      "                                                                 lstm_1[2][0]                     \n",
      "                                                                 lstm_1[3][0]                     \n",
      "                                                                 lstm_1[4][0]                     \n",
      "                                                                 lstm_1[5][0]                     \n",
      "                                                                 lstm_1[6][0]                     \n",
      "                                                                 lstm_1[7][0]                     \n",
      "                                                                 lstm_1[8][0]                     \n",
      "                                                                 lstm_1[9][0]                     \n",
      "                                                                 lstm_1[10][0]                    \n",
      "                                                                 lstm_1[11][0]                    \n",
      "                                                                 lstm_1[12][0]                    \n",
      "                                                                 lstm_1[13][0]                    \n",
      "                                                                 lstm_1[14][0]                    \n",
      "                                                                 lstm_1[15][0]                    \n",
      "                                                                 lstm_1[16][0]                    \n",
      "                                                                 lstm_1[17][0]                    \n",
      "                                                                 lstm_1[18][0]                    \n",
      "                                                                 lstm_1[19][0]                    \n",
      "                                                                 lstm_1[20][0]                    \n",
      "                                                                 lstm_1[21][0]                    \n",
      "                                                                 lstm_1[22][0]                    \n",
      "                                                                 lstm_1[23][0]                    \n",
      "                                                                 lstm_1[24][0]                    \n",
      "                                                                 lstm_1[25][0]                    \n",
      "                                                                 lstm_1[26][0]                    \n",
      "                                                                 lstm_1[27][0]                    \n",
      "                                                                 lstm_1[28][0]                    \n",
      "                                                                 lstm_1[29][0]                    \n",
      "                                                                 lstm_1[30][0]                    \n",
      "                                                                 lstm_1[31][0]                    \n",
      "                                                                 lstm_1[32][0]                    \n",
      "                                                                 lstm_1[33][0]                    \n",
      "                                                                 lstm_1[34][0]                    \n",
      "                                                                 lstm_1[35][0]                    \n",
      "                                                                 lstm_1[36][0]                    \n",
      "                                                                 lstm_1[37][0]                    \n",
      "                                                                 lstm_1[38][0]                    \n",
      "                                                                 lstm_1[39][0]                    \n",
      "                                                                 lstm_1[40][0]                    \n",
      "                                                                 lstm_1[41][0]                    \n",
      "                                                                 lstm_1[42][0]                    \n",
      "                                                                 lstm_1[43][0]                    \n",
      "                                                                 lstm_1[44][0]                    \n",
      "                                                                 lstm_1[45][0]                    \n",
      "                                                                 lstm_1[46][0]                    \n",
      "                                                                 lstm_1[47][0]                    \n",
      "                                                                 lstm_1[48][0]                    \n",
      "                                                                 lstm_1[49][0]                    \n",
      "                                                                 lstm_1[50][0]                    \n",
      "                                                                 lstm_1[51][0]                    \n",
      "                                                                 lstm_1[52][0]                    \n",
      "                                                                 lstm_1[53][0]                    \n",
      "                                                                 lstm_1[54][0]                    \n",
      "                                                                 lstm_1[55][0]                    \n",
      "                                                                 lstm_1[56][0]                    \n",
      "                                                                 lstm_1[57][0]                    \n",
      "                                                                 lstm_1[58][0]                    \n",
      "                                                                 lstm_1[59][0]                    \n",
      "                                                                 lstm_1[60][0]                    \n",
      "                                                                 lstm_1[61][0]                    \n",
      "                                                                 lstm_1[62][0]                    \n",
      "__________________________________________________________________________________________________\n",
      "lambda_63 (Lambda)              (None, 63, 5739)     0           dense_2[0][0]                    \n",
      "                                                                 dense_2[1][0]                    \n",
      "                                                                 dense_2[2][0]                    \n",
      "                                                                 dense_2[3][0]                    \n",
      "                                                                 dense_2[4][0]                    \n",
      "                                                                 dense_2[5][0]                    \n",
      "                                                                 dense_2[6][0]                    \n",
      "                                                                 dense_2[7][0]                    \n",
      "                                                                 dense_2[8][0]                    \n",
      "                                                                 dense_2[9][0]                    \n",
      "                                                                 dense_2[10][0]                   \n",
      "                                                                 dense_2[11][0]                   \n",
      "                                                                 dense_2[12][0]                   \n",
      "                                                                 dense_2[13][0]                   \n",
      "                                                                 dense_2[14][0]                   \n",
      "                                                                 dense_2[15][0]                   \n",
      "                                                                 dense_2[16][0]                   \n",
      "                                                                 dense_2[17][0]                   \n",
      "                                                                 dense_2[18][0]                   \n",
      "                                                                 dense_2[19][0]                   \n",
      "                                                                 dense_2[20][0]                   \n",
      "                                                                 dense_2[21][0]                   \n",
      "                                                                 dense_2[22][0]                   \n",
      "                                                                 dense_2[23][0]                   \n",
      "                                                                 dense_2[24][0]                   \n",
      "                                                                 dense_2[25][0]                   \n",
      "                                                                 dense_2[26][0]                   \n",
      "                                                                 dense_2[27][0]                   \n",
      "                                                                 dense_2[28][0]                   \n",
      "                                                                 dense_2[29][0]                   \n",
      "                                                                 dense_2[30][0]                   \n",
      "                                                                 dense_2[31][0]                   \n",
      "                                                                 dense_2[32][0]                   \n",
      "                                                                 dense_2[33][0]                   \n",
      "                                                                 dense_2[34][0]                   \n",
      "                                                                 dense_2[35][0]                   \n",
      "                                                                 dense_2[36][0]                   \n",
      "                                                                 dense_2[37][0]                   \n",
      "                                                                 dense_2[38][0]                   \n",
      "                                                                 dense_2[39][0]                   \n",
      "                                                                 dense_2[40][0]                   \n",
      "                                                                 dense_2[41][0]                   \n",
      "                                                                 dense_2[42][0]                   \n",
      "                                                                 dense_2[43][0]                   \n",
      "                                                                 dense_2[44][0]                   \n",
      "                                                                 dense_2[45][0]                   \n",
      "                                                                 dense_2[46][0]                   \n",
      "                                                                 dense_2[47][0]                   \n",
      "                                                                 dense_2[48][0]                   \n",
      "                                                                 dense_2[49][0]                   \n",
      "                                                                 dense_2[50][0]                   \n",
      "                                                                 dense_2[51][0]                   \n",
      "                                                                 dense_2[52][0]                   \n",
      "                                                                 dense_2[53][0]                   \n",
      "                                                                 dense_2[54][0]                   \n",
      "                                                                 dense_2[55][0]                   \n",
      "                                                                 dense_2[56][0]                   \n",
      "                                                                 dense_2[57][0]                   \n",
      "                                                                 dense_2[58][0]                   \n",
      "                                                                 dense_2[59][0]                   \n",
      "                                                                 dense_2[60][0]                   \n",
      "                                                                 dense_2[61][0]                   \n",
      "                                                                 dense_2[62][0]                   \n",
      "==================================================================================================\n",
      "Total params: 8,713,810\n",
      "Trainable params: 8,283,610\n",
      "Non-trainable params: 430,200\n",
      "__________________________________________________________________________________________________\n"
     ]
    }
   ],
   "source": [
    "model1.summary()"
   ]
  },
  {
   "cell_type": "markdown",
   "metadata": {},
   "source": [
    "### Define custom loss functions and metrics for the model"
   ]
  },
  {
   "cell_type": "code",
   "execution_count": 31,
   "metadata": {},
   "outputs": [],
   "source": [
    "def custom_loss(y_true, y_pred):\n",
    "    # both are of shape N x T x K\n",
    "    mask = K.cast(y_true > 0, dtype='float32')\n",
    "    out = mask * y_true * K.log(y_pred)\n",
    "    return -K.sum(out) / K.sum(mask)\n",
    "\n",
    "\n",
    "def acc(y_true, y_pred):\n",
    "    # both are of shape N x T x K\n",
    "    targ = K.argmax(y_true, axis=-1)\n",
    "    pred = K.argmax(y_pred, axis=-1)\n",
    "    correct = K.cast(K.equal(targ, pred), dtype='float32')\n",
    "\n",
    "    # 0 is padding, don't include those\n",
    "    mask = K.cast(K.greater(targ, 0), dtype='float32')\n",
    "    n_correct = K.sum(mask * correct)\n",
    "    n_total = K.sum(mask)\n",
    "    return n_correct / n_total\n"
   ]
  },
  {
   "cell_type": "markdown",
   "metadata": {},
   "source": [
    "### Compile the model"
   ]
  },
  {
   "cell_type": "code",
   "execution_count": 32,
   "metadata": {},
   "outputs": [],
   "source": [
    "model1.compile(optimizer='adam', loss=custom_loss, metrics=[acc])"
   ]
  },
  {
   "cell_type": "markdown",
   "metadata": {},
   "source": [
    "### Fit the model"
   ]
  },
  {
   "cell_type": "markdown",
   "metadata": {},
   "source": [
    "Initially s and c are zero vectors"
   ]
  },
  {
   "cell_type": "code",
   "execution_count": 33,
   "metadata": {},
   "outputs": [],
   "source": [
    "z=np.zeros((len(encoder_inputs),M2))"
   ]
  },
  {
   "cell_type": "code",
   "execution_count": 35,
   "metadata": {},
   "outputs": [
    {
     "name": "stdout",
     "output_type": "stream",
     "text": [
      "Train on 8000 samples, validate on 2000 samples\n",
      "Epoch 1/30\n",
      "8000/8000 [==============================] - 274s 34ms/sample - loss: 5.6046 - acc: 0.2649 - val_loss: 5.4374 - val_acc: 0.2579\n",
      "Epoch 2/30\n",
      "8000/8000 [==============================] - 92s 12ms/sample - loss: 4.8699 - acc: 0.2857 - val_loss: 5.4835 - val_acc: 0.2579\n",
      "Epoch 3/30\n",
      "8000/8000 [==============================] - 91s 11ms/sample - loss: 4.7566 - acc: 0.2860 - val_loss: 5.4583 - val_acc: 0.2594\n",
      "Epoch 4/30\n",
      "8000/8000 [==============================] - 88s 11ms/sample - loss: 4.6039 - acc: 0.2920 - val_loss: 5.3922 - val_acc: 0.2559\n",
      "Epoch 5/30\n",
      "8000/8000 [==============================] - 92s 11ms/sample - loss: 4.4053 - acc: 0.2971 - val_loss: 5.3346 - val_acc: 0.2594\n",
      "Epoch 6/30\n",
      "8000/8000 [==============================] - 88s 11ms/sample - loss: 4.2153 - acc: 0.3117 - val_loss: 5.2561 - val_acc: 0.2731\n",
      "Epoch 7/30\n",
      "8000/8000 [==============================] - 89s 11ms/sample - loss: 4.0497 - acc: 0.3240 - val_loss: 5.1958 - val_acc: 0.2896\n",
      "Epoch 8/30\n",
      "8000/8000 [==============================] - 93s 12ms/sample - loss: 3.8926 - acc: 0.3366 - val_loss: 5.1524 - val_acc: 0.3048\n",
      "Epoch 9/30\n",
      "8000/8000 [==============================] - 95s 12ms/sample - loss: 3.7323 - acc: 0.3514 - val_loss: 5.1444 - val_acc: 0.3112\n",
      "Epoch 10/30\n",
      "8000/8000 [==============================] - 98s 12ms/sample - loss: 3.5907 - acc: 0.3619 - val_loss: 5.0499 - val_acc: 0.3345\n",
      "Epoch 11/30\n",
      "8000/8000 [==============================] - 95s 12ms/sample - loss: 3.4395 - acc: 0.3771 - val_loss: 5.0168 - val_acc: 0.3460\n",
      "Epoch 12/30\n",
      "8000/8000 [==============================] - 99s 12ms/sample - loss: 3.2897 - acc: 0.3914 - val_loss: 5.0350 - val_acc: 0.3584\n",
      "Epoch 13/30\n",
      "8000/8000 [==============================] - 100s 12ms/sample - loss: 3.1557 - acc: 0.3994 - val_loss: 4.9820 - val_acc: 0.3702\n",
      "Epoch 14/30\n",
      "8000/8000 [==============================] - 99s 12ms/sample - loss: 3.0167 - acc: 0.4083 - val_loss: 4.9634 - val_acc: 0.3665\n",
      "Epoch 15/30\n",
      "8000/8000 [==============================] - 102s 13ms/sample - loss: 2.8940 - acc: 0.4163 - val_loss: 4.9543 - val_acc: 0.3783\n",
      "Epoch 16/30\n",
      "8000/8000 [==============================] - 108s 13ms/sample - loss: 2.7816 - acc: 0.4242 - val_loss: 4.9529 - val_acc: 0.3744\n",
      "Epoch 17/30\n",
      "8000/8000 [==============================] - 99s 12ms/sample - loss: 2.6720 - acc: 0.4319 - val_loss: 4.9342 - val_acc: 0.3842\n",
      "Epoch 18/30\n",
      "8000/8000 [==============================] - 100s 13ms/sample - loss: 2.5646 - acc: 0.4390 - val_loss: 4.9504 - val_acc: 0.3882\n",
      "Epoch 19/30\n",
      "8000/8000 [==============================] - 98s 12ms/sample - loss: 2.4676 - acc: 0.4463 - val_loss: 4.9573 - val_acc: 0.3874\n",
      "Epoch 20/30\n",
      "8000/8000 [==============================] - 59s 7ms/sample - loss: 2.3610 - acc: 0.4566 - val_loss: 4.9772 - val_acc: 0.3906\n",
      "Epoch 21/30\n",
      "8000/8000 [==============================] - 59s 7ms/sample - loss: 2.2656 - acc: 0.4633 - val_loss: 4.9827 - val_acc: 0.3894\n",
      "Epoch 22/30\n",
      "8000/8000 [==============================] - 62s 8ms/sample - loss: 2.1805 - acc: 0.4709 - val_loss: 4.9824 - val_acc: 0.3917\n",
      "Epoch 23/30\n",
      "8000/8000 [==============================] - 59s 7ms/sample - loss: 2.0902 - acc: 0.4810 - val_loss: 4.9896 - val_acc: 0.3984\n",
      "Epoch 24/30\n",
      "8000/8000 [==============================] - 56s 7ms/sample - loss: 2.0047 - acc: 0.4890 - val_loss: 5.0186 - val_acc: 0.3942\n",
      "Epoch 25/30\n",
      "8000/8000 [==============================] - 56s 7ms/sample - loss: 1.9198 - acc: 0.4983 - val_loss: 5.0171 - val_acc: 0.4008\n",
      "Epoch 26/30\n",
      "8000/8000 [==============================] - 59s 7ms/sample - loss: 1.8417 - acc: 0.5072 - val_loss: 5.0220 - val_acc: 0.3994\n",
      "Epoch 27/30\n",
      "8000/8000 [==============================] - 58s 7ms/sample - loss: 1.7690 - acc: 0.5176 - val_loss: 5.0242 - val_acc: 0.3949\n",
      "Epoch 28/30\n",
      "8000/8000 [==============================] - 59s 7ms/sample - loss: 1.6976 - acc: 0.5269 - val_loss: 5.0550 - val_acc: 0.3992\n",
      "Epoch 29/30\n",
      "8000/8000 [==============================] - 58s 7ms/sample - loss: 1.6369 - acc: 0.5358 - val_loss: 5.0245 - val_acc: 0.3930\n",
      "Epoch 30/30\n",
      "8000/8000 [==============================] - 59s 7ms/sample - loss: 1.5727 - acc: 0.5436 - val_loss: 5.0571 - val_acc: 0.3952\n"
     ]
    }
   ],
   "source": [
    "r=model1.fit([encoder_inputs,decoder_inputs,z,z],\n",
    "            decoder_targets_one_hot,\n",
    "            batch_size=BATCH_SIZE,\n",
    "            validation_split=0.2,\n",
    "            epochs=EPOCHS)"
   ]
  },
  {
   "cell_type": "code",
   "execution_count": 36,
   "metadata": {},
   "outputs": [],
   "source": [
    "model1.save(\"attn_for_translation_1.h5\")"
   ]
  },
  {
   "cell_type": "markdown",
   "metadata": {},
   "source": [
    "### Plot progress of model training process."
   ]
  },
  {
   "cell_type": "code",
   "execution_count": 37,
   "metadata": {},
   "outputs": [
    {
     "data": {
      "image/png": "[encoded data removed]",
      "text/plain": [
       "<Figure size 432x288 with 1 Axes>"
      ]
     },
     "metadata": {
      "needs_background": "light"
     },
     "output_type": "display_data"
    }
   ],
   "source": [
    "plt.plot(r.history['acc'], label='acc')\n",
    "plt.plot(r.history['val_acc'], label='val_acc')\n",
    "plt.legend()\n",
    "plt.show()"
   ]
  },
  {
   "cell_type": "markdown",
   "metadata": {},
   "source": [
    "## Sampling model"
   ]
  },
  {
   "cell_type": "markdown",
   "metadata": {},
   "source": [
    "Now that the model has been trained, for prediction purpose, we first need the standalone encoder model that\n",
    "* Takes encoder_input_placeholder as input and\n",
    "* Gives the encoded outputs h, at each time step"
   ]
  },
  {
   "cell_type": "markdown",
   "metadata": {},
   "source": [
    "### Standalone Encoder"
   ]
  },
  {
   "cell_type": "markdown",
   "metadata": {},
   "source": [
    "We can just specify the input and output required.\n",
    "\n",
    "All the layers to be used have learned their weights during training."
   ]
  },
  {
   "cell_type": "code",
   "execution_count": 38,
   "metadata": {},
   "outputs": [],
   "source": [
    "encoder_model=Model(encoder_input_placeholder,encoder_outputs)"
   ]
  },
  {
   "cell_type": "code",
   "execution_count": 39,
   "metadata": {},
   "outputs": [
    {
     "name": "stdout",
     "output_type": "stream",
     "text": [
      "Model: \"model_1\"\n",
      "_________________________________________________________________\n",
      "Layer (type)                 Output Shape              Param #   \n",
      "=================================================================\n",
      "input_1 (InputLayer)         [(None, 16)]              0         \n",
      "_________________________________________________________________\n",
      "embedding (Embedding)        (None, 16, 200)           430200    \n",
      "_________________________________________________________________\n",
      "bidirectional (Bidirectional (None, 16, 800)           1923200   \n",
      "=================================================================\n",
      "Total params: 2,353,400\n",
      "Trainable params: 1,923,200\n",
      "Non-trainable params: 430,200\n",
      "_________________________________________________________________\n"
     ]
    }
   ],
   "source": [
    "encoder_model.summary()"
   ]
  },
  {
   "cell_type": "markdown",
   "metadata": {},
   "source": [
    "So now the encoder is ready"
   ]
  },
  {
   "cell_type": "markdown",
   "metadata": {},
   "source": [
    "### Specify architecture of sampling(prediction) decoder"
   ]
  },
  {
   "cell_type": "code",
   "execution_count": null,
   "metadata": {},
   "outputs": [],
   "source": [
    "encoder_outputs_as_dec_inputs_placeholder = Input(shape=(max_input_length,M1*2))\n",
    "#This is the shape of the state vector we get from encoder"
   ]
  },
  {
   "cell_type": "code",
   "execution_count": 41,
   "metadata": {},
   "outputs": [],
   "source": [
    "decoder_inputs_single   = Input(shape=(1,))                         # Input word to the decoder unit\n",
    "decoder_inputs_single_x = decoder_embeddings(decoder_inputs_single) # Map with the learned French word embeddings "
   ]
  },
  {
   "cell_type": "markdown",
   "metadata": {},
   "source": [
    "And then we get the context vector "
   ]
  },
  {
   "cell_type": "code",
   "execution_count": 42,
   "metadata": {},
   "outputs": [],
   "source": [
    "context_vector = get_context_from_attn(encoder_outputs_as_dec_inputs_placeholder,initial_s)"
   ]
  },
  {
   "cell_type": "code",
   "execution_count": 43,
   "metadata": {},
   "outputs": [],
   "source": [
    "decoder_lstm_input = concat_prev_word_and_context([context_vector,decoder_inputs_single_x])"
   ]
  },
  {
   "cell_type": "code",
   "execution_count": 44,
   "metadata": {},
   "outputs": [],
   "source": [
    "o,s,c = decoder_lstm(decoder_lstm_input,initial_state=[initial_s,initial_c])\n",
    "\n",
    "decoder_outputs=decoder_dense(o)"
   ]
  },
  {
   "cell_type": "markdown",
   "metadata": {},
   "source": [
    "From these above operations, we will get decoder_outputs as a single vector of length D,where D is num_words_output\n",
    "\n",
    "So there is no need for stacking the output here.\n",
    "\n",
    "The batch output size is actually N x D"
   ]
  },
  {
   "cell_type": "markdown",
   "metadata": {},
   "source": [
    "### Sampling decoder model"
   ]
  },
  {
   "cell_type": "code",
   "execution_count": 61,
   "metadata": {},
   "outputs": [],
   "source": [
    "decoder_model=Model(\n",
    "                inputs=[\n",
    "                    decoder_inputs_single,\n",
    "                    encoder_outputs_as_dec_inputs_placeholder,\n",
    "                    initial_s,\n",
    "                    initial_c\n",
    "                ],\n",
    "                outputs=[decoder_outputs,s,c]) # we need s and c for updation while calling this function the nect time within a for loop"
   ]
  },
  {
   "cell_type": "code",
   "execution_count": 62,
   "metadata": {},
   "outputs": [
    {
     "name": "stdout",
     "output_type": "stream",
     "text": [
      "Model: \"model_4\"\n",
      "__________________________________________________________________________________________________\n",
      "Layer (type)                    Output Shape         Param #     Connected to                     \n",
      "==================================================================================================\n",
      "s0 (InputLayer)                 [(None, 450)]        0                                            \n",
      "__________________________________________________________________________________________________\n",
      "input_3 (InputLayer)            [(None, 16, 800)]    0                                            \n",
      "__________________________________________________________________________________________________\n",
      "repeat_vector (RepeatVector)    (None, 16, 450)      0           s0[0][0]                         \n",
      "__________________________________________________________________________________________________\n",
      "concatenate (Concatenate)       (None, 16, 1250)     0           input_3[0][0]                    \n",
      "                                                                 repeat_vector[63][0]             \n",
      "__________________________________________________________________________________________________\n",
      "dense (Dense)                   (None, 16, 10)       12510       concatenate[63][0]               \n",
      "__________________________________________________________________________________________________\n",
      "dense_1 (Dense)                 (None, 16, 1)        11          dense[63][0]                     \n",
      "__________________________________________________________________________________________________\n",
      "input_4 (InputLayer)            [(None, 1)]          0                                            \n",
      "__________________________________________________________________________________________________\n",
      "dot (Dot)                       (None, 1, 800)       0           dense_1[63][0]                   \n",
      "                                                                 input_3[0][0]                    \n",
      "__________________________________________________________________________________________________\n",
      "embedding_1 (Embedding)         multiple             1147800     input_4[0][0]                    \n",
      "__________________________________________________________________________________________________\n",
      "concatenate_1 (Concatenate)     (None, 1, 1000)      0           dot[63][0]                       \n",
      "                                                                 embedding_1[1][0]                \n",
      "__________________________________________________________________________________________________\n",
      "c0 (InputLayer)                 [(None, 450)]        0                                            \n",
      "__________________________________________________________________________________________________\n",
      "lstm_1 (LSTM)                   [(None, 450), (None, 2611800     concatenate_1[63][0]             \n",
      "                                                                 s0[0][0]                         \n",
      "                                                                 c0[0][0]                         \n",
      "__________________________________________________________________________________________________\n",
      "dense_2 (Dense)                 (None, 5739)         2588289     lstm_1[63][0]                    \n",
      "==================================================================================================\n",
      "Total params: 6,360,410\n",
      "Trainable params: 6,360,410\n",
      "Non-trainable params: 0\n",
      "__________________________________________________________________________________________________\n"
     ]
    }
   ],
   "source": [
    "decoder_model.summary()"
   ]
  },
  {
   "cell_type": "markdown",
   "metadata": {},
   "source": [
    "Mapping indices into actual words"
   ]
  },
  {
   "cell_type": "code",
   "execution_count": 64,
   "metadata": {},
   "outputs": [],
   "source": [
    "# map indexes back into real words\n",
    "idx2word_eng = {v:k for k, v in word2idx_inputs.items()}\n",
    "idx2word_trans = {v:k for k, v in word2idx_outputs.items()}"
   ]
  },
  {
   "cell_type": "markdown",
   "metadata": {},
   "source": [
    "Points to Remember:\n",
    "* During training, we perform teacher forcing using the Lamba selection layer whereas we don't peform any such action during prediction.\n",
    "\n",
    "* Also, while training,the selection for Teacher Forcing is made from\n",
    "\n",
    "* decoder_inputs_x(which gets attached to the context)  is of dimension (max_target_len) \n",
    "\n",
    "* The actual value for decoder_inputs_x is specified to be the actual correct word while fitting(not instantiating) the model\n",
    "\n",
    "* Only after(when) the correct answer is passed through the above flow , the process is called teacher forcing\n",
    "\n",
    "* But while prediction,the decoder_inputs_single_x which is of dimension (1) for every output word ,also serves as a placeholder to pass the previous word, but here while fitting we cannot give the correct answer value for that placeholder\n",
    "\n",
    "* Instead we pass the predicted value \n",
    "\n",
    "* This is done while fitting\n",
    "\n",
    "\n",
    "\n",
    "**So ,even though dimensions are diff between decoder_inputs_x and decoder_inputs_single_x ,the model won't know \n",
    "what value will be passed in their place until model is fitted**\n",
    "\n",
    "* If we fit model, such that actual correct answer is passed in that place, we call it Teacher forcing"
   ]
  },
  {
   "cell_type": "markdown",
   "metadata": {},
   "source": [
    "## Functionize the translation process."
   ]
  },
  {
   "cell_type": "code",
   "execution_count": 65,
   "metadata": {},
   "outputs": [],
   "source": [
    "def decode_sequence(input_seq):\n",
    "    # Obtain state vectors while passing input through Encoder\n",
    "    enc_out = encoder_model.predict(input_seq)\n",
    "    \n",
    "    # Generate empty target sequence of length 1.\n",
    "    target_seq = np.zeros((1, 1))\n",
    "    \n",
    "    # Populate the first character of target sequence with the start character.\n",
    "    # NOTE: tokenizer lower-cases all words\n",
    "    target_seq[0, 0] = word2idx_outputs['<sos>']\n",
    "    \n",
    "    # To stop the translation process when <eos> encountered\n",
    "    eos = word2idx_outputs['<eos>']\n",
    "    \n",
    "    # Initialize s and c.They will be updated in each iteration\n",
    "    s = np.zeros((1,M2))\n",
    "    c = np.zeros((1,M2))\n",
    "    \n",
    "    # Obtain translation\n",
    "    output_sentence = []\n",
    "    for _ in range(max_target_length):\n",
    "        o, s, c = decoder_model.predict([target_seq,enc_out,s,c])# inpust should be same as when creating model instance\n",
    "        # Convert predicted index to actual French word\n",
    "        idx = np.argmax(o.flatten())\n",
    "        # End sentence if EOS encountered\n",
    "        if eos == idx:\n",
    "            break\n",
    "        word =\"\"\n",
    "        if idx > 0:\n",
    "            word = idx2word_trans[idx]\n",
    "            output_sentence.append(word)\n",
    "        # Update the next decoder unit's input to be the word we just generated\n",
    "        # Because Teacher forcing cannot be used when predicting\n",
    "        target_seq[0, 0] = idx\n",
    "\n",
    "    return ' '.join(output_sentence)"
   ]
  },
  {
   "cell_type": "code",
   "execution_count": 67,
   "metadata": {},
   "outputs": [
    {
     "name": "stdout",
     "output_type": "stream",
     "text": [
      "-\n",
      "Input sentence: Is this wine?\n",
      "Predicted translation: est-ce de vin ?\n",
      "Actual translation: Est-ce du vin ? <eos>\n",
      "Continue? [Y/n]Y\n",
      "-\n",
      "Input sentence: I believed you.\n",
      "Predicted translation: je vous ai\n",
      "Actual translation: Je t'ai cru. <eos>\n",
      "Continue? [Y/n]Y\n",
      "-\n",
      "Input sentence: Help Tom.\n",
      "Predicted translation: trouvez tom.\n",
      "Actual translation: Aide Tom. <eos>\n",
      "Continue? [Y/n]Y\n",
      "-\n",
      "Input sentence: Show it to him.\n",
      "Predicted translation: donne-le-lui.\n",
      "Actual translation: Montre-le-lui ! <eos>\n",
      "Continue? [Y/n]Y\n",
      "-\n",
      "Input sentence: I'll get these.\n",
      "Predicted translation: regarde ici.\n",
      "Actual translation: J'irai chercher ceux-ci. <eos>\n",
      "Continue? [Y/n]Y\n",
      "-\n",
      "Input sentence: They won.\n",
      "Predicted translation: ils ont gagné.\n",
      "Actual translation: Ils ont gagné. <eos>\n",
      "Continue? [Y/n]Y\n",
      "-\n",
      "Input sentence: Don't die.\n",
      "Predicted translation: ne mourez pas !\n",
      "Actual translation: Ne meurs pas ! <eos>\n",
      "Continue? [Y/n]Y\n",
      "-\n",
      "Input sentence: Tom will check.\n",
      "Predicted translation: tom obéira.\n",
      "Actual translation: Tom vérifiera. <eos>\n",
      "Continue? [Y/n]Y\n",
      "-\n",
      "Input sentence: You screwed up.\n",
      "Predicted translation: tu as\n",
      "Actual translation: T'as merdé. <eos>\n",
      "Continue? [Y/n]Y\n",
      "-\n",
      "Input sentence: Open your hand.\n",
      "Predicted translation: attrape la main\n",
      "Actual translation: Ouvre la main ! <eos>\n",
      "Continue? [Y/n]Y\n",
      "-\n",
      "Input sentence: I'm fat.\n",
      "Predicted translation: je suis gros.\n",
      "Actual translation: Je suis gras. <eos>\n",
      "Continue? [Y/n]n\n"
     ]
    }
   ],
   "source": [
    "while True:\n",
    "    # Perform some test translations\n",
    "    i = np.random.choice(len(input_texts))\n",
    "    input_seq = encoder_inputs[i:i+1]\n",
    "    translation = decode_sequence(input_seq)\n",
    "    print('-')\n",
    "    print('Input sentence:', input_texts[i])\n",
    "    print('Predicted translation:', translation)\n",
    "    print('Actual translation:', target_texts[i])\n",
    "    ans = input(\"Continue? [Y/n]\")\n",
    "    if ans and ans.lower().startswith('n'):\n",
    "        break\n"
   ]
  },
  {
   "cell_type": "markdown",
   "metadata": {},
   "source": [
    "We see that the model performs the Machine Translation task reasonably well."
   ]
  },
  {
   "cell_type": "markdown",
   "metadata": {},
   "source": [
    "**Improving Model Performance:**\n",
    "\n",
    "   * Using more training data(not all available data used here due to memory constraints)\n",
    "   \n",
    "   * Tweaking model hyperparmaters\n",
    "   \n",
    "   * Increasing model complexity\n",
    "   \n",
    "   * Using pretrained word embeddings for the output language also.\n",
    "   \n",
    "   * Further enrichment of the vocabulary for both input and output languages."
   ]
  }
 ],
 "metadata": {
  "kernelspec": {
   "display_name": "Python 3",
   "language": "python",
   "name": "python3"
  },
  "language_info": {
   "codemirror_mode": {
    "name": "ipython",
    "version": 3
   },
   "file_extension": ".py",
   "mimetype": "text/x-python",
   "name": "python",
   "nbconvert_exporter": "python",
   "pygments_lexer": "ipython3",
   "version": "3.8.10"
  },
  "toc": {
   "base_numbering": 1,
   "nav_menu": {},
   "number_sections": true,
   "sideBar": false,
   "skip_h1_title": false,
   "title_cell": "Table of Contents",
   "title_sidebar": "Contents",
   "toc_cell": true,
   "toc_position": {
    "height": "563.2px",
    "left": "313px",
    "top": "743.2px",
    "width": "209.6px"
   },
   "toc_section_display": true,
   "toc_window_display": false
  },
  "varInspector": {
   "cols": {
    "lenName": 16,
    "lenType": 16,
    "lenVar": 40
   },
   "kernels_config": {
    "python": {
     "delete_cmd_postfix": "",
     "delete_cmd_prefix": "del ",
     "library": "var_list.py",
     "varRefreshCmd": "print(var_dic_list())"
    },
    "r": {
     "delete_cmd_postfix": ") ",
     "delete_cmd_prefix": "rm(",
     "library": "var_list.r",
     "varRefreshCmd": "cat(var_dic_list()) "
    }
   },
   "types_to_exclude": [
    "module",
    "function",
    "builtin_function_or_method",
    "instance",
    "_Feature"
   ],
   "window_display": false
  }
 },
 "nbformat": 4,
 "nbformat_minor": 4
}
